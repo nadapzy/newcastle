{
 "cells": [
  {
   "cell_type": "code",
   "execution_count": 1,
   "metadata": {
    "collapsed": false
   },
   "outputs": [
    {
     "name": "stderr",
     "output_type": "stream",
     "text": [
      "C:\\Anaconda2\\lib\\site-packages\\IPython\\core\\interactiveshell.py:2902: DtypeWarning: Columns (5,7) have mixed types. Specify dtype option on import or set low_memory=False.\n",
      "  interactivity=interactivity, compiler=compiler, result=result)\n"
     ]
    }
   ],
   "source": [
    "import pandas as pd\n",
    "import datetime\n",
    "df = pd.read_csv( \"castle-event-data-v4.csv\",sep=',', header=0, parse_dates=True,quoting=1 )\n"
   ]
  },
  {
   "cell_type": "code",
   "execution_count": 2,
   "metadata": {
    "collapsed": true
   },
   "outputs": [],
   "source": [
    "import numpy as np"
   ]
  },
  {
   "cell_type": "code",
   "execution_count": 3,
   "metadata": {
    "collapsed": false
   },
   "outputs": [],
   "source": [
    "#replace all values \"custome\" in column name with custom name\n",
    "df.name=df.name.replace(to_replace='custom',value=np.nan)\n",
    "df.name=df.name.fillna(df.custom_name)"
   ]
  },
  {
   "cell_type": "code",
   "execution_count": 4,
   "metadata": {
    "collapsed": false
   },
   "outputs": [],
   "source": [
    "df_model=df.drop(['ua','created_at','user_id','session_id','device_id','ip','lon','lat','accuracy','custom_name'],axis=1)\n",
    "df_model=df_model.drop(['l','city','isp_name'],axis=1)"
   ]
  },
  {
   "cell_type": "code",
   "execution_count": 5,
   "metadata": {
    "collapsed": false
   },
   "outputs": [
    {
     "data": {
      "text/plain": [
       "Index([u'name', u'continent', u'country', u'datacenter', u'proxy',\n",
       "       u'mobile_device'],\n",
       "      dtype='object')"
      ]
     },
     "execution_count": 5,
     "metadata": {},
     "output_type": "execute_result"
    }
   ],
   "source": [
    "df_model.columns"
   ]
  },
  {
   "cell_type": "code",
   "execution_count": 6,
   "metadata": {
    "collapsed": false
   },
   "outputs": [
    {
     "data": {
      "text/plain": [
       "page_viewed                                   1535114\n",
       "login_succeeded                                335810\n",
       "passwordChange_succeeded                        73548\n",
       "Payment With Balance                            62531\n",
       "Regular Cellphone Confirmation                  26639\n",
       "passwordReset_requested                         14829\n",
       "Create Withdraw                                 13383\n",
       "Account Create Edc Deposit On Landing Page      12417\n",
       "registration_succeeded                          11175\n",
       "Card Checkout                                    7152\n",
       "Mobile Show Cvv                                  4975\n",
       "Cellphone Confirmation                           3864\n",
       "First Timeline Access                            3580\n",
       "First Card Access                                3576\n",
       "Mobile Withdraw Check                            1728\n",
       "New Contact                                       463\n",
       "Account Login Soft Block                          200\n",
       "Mobile Account Change Password                      9\n",
       "Regular Cellphone Confirmation Failed               6\n",
       "Account Login Mobile Chat#using Token               5\n",
       "Name: name, dtype: int64"
      ]
     },
     "execution_count": 6,
     "metadata": {},
     "output_type": "execute_result"
    }
   ],
   "source": [
    "df.name.value_counts()"
   ]
  },
  {
   "cell_type": "code",
   "execution_count": 7,
   "metadata": {
    "collapsed": true
   },
   "outputs": [],
   "source": [
    "df_trans=pd.get_dummies(df_model,dummy_na=True)"
   ]
  },
  {
   "cell_type": "code",
   "execution_count": 8,
   "metadata": {
    "collapsed": false
   },
   "outputs": [
    {
     "data": {
      "text/plain": [
       "Index([u'datacenter', u'proxy', u'mobile_device',\n",
       "       u'name_Account Create Edc Deposit On Landing Page',\n",
       "       u'name_Account Login Mobile Chat#using Token',\n",
       "       u'name_Account Login Soft Block', u'name_Card Checkout',\n",
       "       u'name_Cellphone Confirmation', u'name_Create Withdraw',\n",
       "       u'name_First Card Access',\n",
       "       ...\n",
       "       u'country_Turkey', u'country_U.S. Virgin Islands', u'country_Ukraine',\n",
       "       u'country_United Arab Emirates', u'country_United Kingdom',\n",
       "       u'country_United States', u'country_Uruguay', u'country_Venezuela',\n",
       "       u'country_Vietnam', u'country_nan'],\n",
       "      dtype='object', length=123)"
      ]
     },
     "execution_count": 8,
     "metadata": {},
     "output_type": "execute_result"
    }
   ],
   "source": [
    "df_trans.columns"
   ]
  },
  {
   "cell_type": "code",
   "execution_count": 9,
   "metadata": {
    "collapsed": false
   },
   "outputs": [
    {
     "data": {
      "text/plain": [
       "(2111004, 123)"
      ]
     },
     "execution_count": 9,
     "metadata": {},
     "output_type": "execute_result"
    }
   ],
   "source": [
    "df_trans.shape"
   ]
  },
  {
   "cell_type": "code",
   "execution_count": 10,
   "metadata": {
    "collapsed": true
   },
   "outputs": [],
   "source": [
    "# apparently we need to do 1 hot coding for the model\n",
    "df_trans=pd.get_dummies(df_model,dummy_na=True)"
   ]
  },
  {
   "cell_type": "code",
   "execution_count": 11,
   "metadata": {
    "collapsed": false
   },
   "outputs": [
    {
     "data": {
      "text/html": [
       "<div>\n",
       "<table border=\"1\" class=\"dataframe\">\n",
       "  <thead>\n",
       "    <tr style=\"text-align: right;\">\n",
       "      <th></th>\n",
       "      <th>datacenter</th>\n",
       "      <th>proxy</th>\n",
       "      <th>mobile_device</th>\n",
       "      <th>name_Account Create Edc Deposit On Landing Page</th>\n",
       "      <th>name_Account Login Mobile Chat#using Token</th>\n",
       "      <th>name_Account Login Soft Block</th>\n",
       "      <th>name_Card Checkout</th>\n",
       "      <th>name_Cellphone Confirmation</th>\n",
       "      <th>name_Create Withdraw</th>\n",
       "      <th>name_First Card Access</th>\n",
       "      <th>...</th>\n",
       "      <th>country_Turkey</th>\n",
       "      <th>country_U.S. Virgin Islands</th>\n",
       "      <th>country_Ukraine</th>\n",
       "      <th>country_United Arab Emirates</th>\n",
       "      <th>country_United Kingdom</th>\n",
       "      <th>country_United States</th>\n",
       "      <th>country_Uruguay</th>\n",
       "      <th>country_Venezuela</th>\n",
       "      <th>country_Vietnam</th>\n",
       "      <th>country_nan</th>\n",
       "    </tr>\n",
       "  </thead>\n",
       "  <tbody>\n",
       "    <tr>\n",
       "      <th>0</th>\n",
       "      <td>False</td>\n",
       "      <td>False</td>\n",
       "      <td>False</td>\n",
       "      <td>0.0</td>\n",
       "      <td>0.0</td>\n",
       "      <td>0.0</td>\n",
       "      <td>0.0</td>\n",
       "      <td>0.0</td>\n",
       "      <td>0.0</td>\n",
       "      <td>0.0</td>\n",
       "      <td>...</td>\n",
       "      <td>0.0</td>\n",
       "      <td>0.0</td>\n",
       "      <td>0.0</td>\n",
       "      <td>0.0</td>\n",
       "      <td>0.0</td>\n",
       "      <td>0.0</td>\n",
       "      <td>0.0</td>\n",
       "      <td>0.0</td>\n",
       "      <td>0.0</td>\n",
       "      <td>0.0</td>\n",
       "    </tr>\n",
       "    <tr>\n",
       "      <th>1</th>\n",
       "      <td>False</td>\n",
       "      <td>False</td>\n",
       "      <td>False</td>\n",
       "      <td>0.0</td>\n",
       "      <td>0.0</td>\n",
       "      <td>0.0</td>\n",
       "      <td>0.0</td>\n",
       "      <td>0.0</td>\n",
       "      <td>0.0</td>\n",
       "      <td>0.0</td>\n",
       "      <td>...</td>\n",
       "      <td>0.0</td>\n",
       "      <td>0.0</td>\n",
       "      <td>0.0</td>\n",
       "      <td>0.0</td>\n",
       "      <td>0.0</td>\n",
       "      <td>0.0</td>\n",
       "      <td>0.0</td>\n",
       "      <td>0.0</td>\n",
       "      <td>0.0</td>\n",
       "      <td>0.0</td>\n",
       "    </tr>\n",
       "    <tr>\n",
       "      <th>2</th>\n",
       "      <td>False</td>\n",
       "      <td>False</td>\n",
       "      <td>False</td>\n",
       "      <td>0.0</td>\n",
       "      <td>0.0</td>\n",
       "      <td>0.0</td>\n",
       "      <td>0.0</td>\n",
       "      <td>0.0</td>\n",
       "      <td>0.0</td>\n",
       "      <td>0.0</td>\n",
       "      <td>...</td>\n",
       "      <td>0.0</td>\n",
       "      <td>0.0</td>\n",
       "      <td>0.0</td>\n",
       "      <td>0.0</td>\n",
       "      <td>0.0</td>\n",
       "      <td>0.0</td>\n",
       "      <td>0.0</td>\n",
       "      <td>0.0</td>\n",
       "      <td>0.0</td>\n",
       "      <td>0.0</td>\n",
       "    </tr>\n",
       "    <tr>\n",
       "      <th>3</th>\n",
       "      <td>False</td>\n",
       "      <td>False</td>\n",
       "      <td>False</td>\n",
       "      <td>0.0</td>\n",
       "      <td>0.0</td>\n",
       "      <td>0.0</td>\n",
       "      <td>0.0</td>\n",
       "      <td>0.0</td>\n",
       "      <td>0.0</td>\n",
       "      <td>0.0</td>\n",
       "      <td>...</td>\n",
       "      <td>0.0</td>\n",
       "      <td>0.0</td>\n",
       "      <td>0.0</td>\n",
       "      <td>0.0</td>\n",
       "      <td>0.0</td>\n",
       "      <td>0.0</td>\n",
       "      <td>0.0</td>\n",
       "      <td>0.0</td>\n",
       "      <td>0.0</td>\n",
       "      <td>0.0</td>\n",
       "    </tr>\n",
       "    <tr>\n",
       "      <th>4</th>\n",
       "      <td>False</td>\n",
       "      <td>False</td>\n",
       "      <td>False</td>\n",
       "      <td>0.0</td>\n",
       "      <td>0.0</td>\n",
       "      <td>0.0</td>\n",
       "      <td>0.0</td>\n",
       "      <td>0.0</td>\n",
       "      <td>0.0</td>\n",
       "      <td>0.0</td>\n",
       "      <td>...</td>\n",
       "      <td>0.0</td>\n",
       "      <td>0.0</td>\n",
       "      <td>0.0</td>\n",
       "      <td>0.0</td>\n",
       "      <td>0.0</td>\n",
       "      <td>0.0</td>\n",
       "      <td>0.0</td>\n",
       "      <td>0.0</td>\n",
       "      <td>0.0</td>\n",
       "      <td>0.0</td>\n",
       "    </tr>\n",
       "  </tbody>\n",
       "</table>\n",
       "<p>5 rows × 123 columns</p>\n",
       "</div>"
      ],
      "text/plain": [
       "  datacenter  proxy mobile_device  \\\n",
       "0      False  False         False   \n",
       "1      False  False         False   \n",
       "2      False  False         False   \n",
       "3      False  False         False   \n",
       "4      False  False         False   \n",
       "\n",
       "   name_Account Create Edc Deposit On Landing Page  \\\n",
       "0                                              0.0   \n",
       "1                                              0.0   \n",
       "2                                              0.0   \n",
       "3                                              0.0   \n",
       "4                                              0.0   \n",
       "\n",
       "   name_Account Login Mobile Chat#using Token  name_Account Login Soft Block  \\\n",
       "0                                         0.0                            0.0   \n",
       "1                                         0.0                            0.0   \n",
       "2                                         0.0                            0.0   \n",
       "3                                         0.0                            0.0   \n",
       "4                                         0.0                            0.0   \n",
       "\n",
       "   name_Card Checkout  name_Cellphone Confirmation  name_Create Withdraw  \\\n",
       "0                 0.0                          0.0                   0.0   \n",
       "1                 0.0                          0.0                   0.0   \n",
       "2                 0.0                          0.0                   0.0   \n",
       "3                 0.0                          0.0                   0.0   \n",
       "4                 0.0                          0.0                   0.0   \n",
       "\n",
       "   name_First Card Access     ...       country_Turkey  \\\n",
       "0                     0.0     ...                  0.0   \n",
       "1                     0.0     ...                  0.0   \n",
       "2                     0.0     ...                  0.0   \n",
       "3                     0.0     ...                  0.0   \n",
       "4                     0.0     ...                  0.0   \n",
       "\n",
       "   country_U.S. Virgin Islands  country_Ukraine  country_United Arab Emirates  \\\n",
       "0                          0.0              0.0                           0.0   \n",
       "1                          0.0              0.0                           0.0   \n",
       "2                          0.0              0.0                           0.0   \n",
       "3                          0.0              0.0                           0.0   \n",
       "4                          0.0              0.0                           0.0   \n",
       "\n",
       "   country_United Kingdom  country_United States  country_Uruguay  \\\n",
       "0                     0.0                    0.0              0.0   \n",
       "1                     0.0                    0.0              0.0   \n",
       "2                     0.0                    0.0              0.0   \n",
       "3                     0.0                    0.0              0.0   \n",
       "4                     0.0                    0.0              0.0   \n",
       "\n",
       "   country_Venezuela  country_Vietnam  country_nan  \n",
       "0                0.0              0.0          0.0  \n",
       "1                0.0              0.0          0.0  \n",
       "2                0.0              0.0          0.0  \n",
       "3                0.0              0.0          0.0  \n",
       "4                0.0              0.0          0.0  \n",
       "\n",
       "[5 rows x 123 columns]"
      ]
     },
     "execution_count": 11,
     "metadata": {},
     "output_type": "execute_result"
    }
   ],
   "source": [
    "df_trans.head()"
   ]
  },
  {
   "cell_type": "code",
   "execution_count": null,
   "metadata": {
    "collapsed": true
   },
   "outputs": [],
   "source": []
  },
  {
   "cell_type": "code",
   "execution_count": null,
   "metadata": {
    "collapsed": false
   },
   "outputs": [],
   "source": [
    "#initialize isolation forest\n",
    "from sklearn.ensemble import IsolationForest\n",
    "seed=25\n",
    "sf=IsolationForest(contamination=0.05,n_jobs=-1,random_state=seed)"
   ]
  },
  {
   "cell_type": "code",
   "execution_count": null,
   "metadata": {
    "collapsed": false
   },
   "outputs": [],
   "source": [
    "# fitting the isolation forest model\n",
    "sf.fit(df_trans)\n"
   ]
  },
  {
   "cell_type": "code",
   "execution_count": null,
   "metadata": {
    "collapsed": true
   },
   "outputs": [],
   "source": [
    "df['score']=sf.predict(df_model)"
   ]
  },
  {
   "cell_type": "code",
   "execution_count": null,
   "metadata": {
    "collapsed": true
   },
   "outputs": [],
   "source": [
    "df[df.score==-1].device.value_counts()"
   ]
  },
  {
   "cell_type": "code",
   "execution_count": null,
   "metadata": {
    "collapsed": true
   },
   "outputs": [],
   "source": []
  },
  {
   "cell_type": "code",
   "execution_count": null,
   "metadata": {
    "collapsed": true
   },
   "outputs": [],
   "source": []
  },
  {
   "cell_type": "code",
   "execution_count": null,
   "metadata": {
    "collapsed": true
   },
   "outputs": [],
   "source": []
  }
 ],
 "metadata": {
  "kernelspec": {
   "display_name": "Python 2",
   "language": "python",
   "name": "python2"
  },
  "language_info": {
   "codemirror_mode": {
    "name": "ipython",
    "version": 2
   },
   "file_extension": ".py",
   "mimetype": "text/x-python",
   "name": "python",
   "nbconvert_exporter": "python",
   "pygments_lexer": "ipython2",
   "version": "2.7.12"
  }
 },
 "nbformat": 4,
 "nbformat_minor": 0
}
