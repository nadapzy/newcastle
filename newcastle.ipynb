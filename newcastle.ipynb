{
 "cells": [
  {
   "cell_type": "code",
   "execution_count": 389,
   "metadata": {
    "collapsed": false
   },
   "outputs": [],
   "source": [
    "import pandas as pd\n",
    "import datetime\n",
    "df = pd.read_csv( \"castle-event-data-v4.csv\",sep=',', header=0, parse_dates=True,quoting=1 )\n"
   ]
  },
  {
   "cell_type": "code",
   "execution_count": 390,
   "metadata": {
    "collapsed": true
   },
   "outputs": [],
   "source": [
    "import numpy as np"
   ]
  },
  {
   "cell_type": "markdown",
   "metadata": {},
   "source": [
    "#### replace all values \"custome\" in column name with custom name"
   ]
  },
  {
   "cell_type": "code",
   "execution_count": 391,
   "metadata": {
    "collapsed": false
   },
   "outputs": [],
   "source": [
    "df.name=df.name.replace(to_replace='custom',value=np.nan)\n",
    "df.name=df.name.fillna(df.custom_name)"
   ]
  },
  {
   "cell_type": "markdown",
   "metadata": {},
   "source": [
    "#### read in the agent os file i generated from user agent API"
   ]
  },
  {
   "cell_type": "code",
   "execution_count": 392,
   "metadata": {
    "collapsed": true
   },
   "outputs": [],
   "source": [
    "def agent_name_from_api(ua_unique,file_name='agent_name.csv'):\n",
    "    i=0    \n",
    "    if not os.path.isfile(file_name):\n",
    "        for ua in ua_unique:\n",
    "            if i%500==0:\n",
    "                print('finishing {0} out of {1} agent'.format(i,len(ua_unique)))\n",
    "            user_agen_api = requests.get(\"http://www.useragentstring.com/?uas=\"+ua+'&getJSON=os_name-agent_name')\n",
    "            if user_agen_api.status_code==200:\n",
    "                user_agent[ua]=[user_agen_api.json()['os_name'],user_agen_api.json()['agent_name']]\n",
    "            i+=1\n",
    "        df_ua=pd.DataFrame.from_dict(user_agent,orient='index',)\n",
    "#        df_ua.column=['user_agent']\n",
    "        df_ua.to_csv('agent_name.csv')\n",
    "    else: df_ua=pd.read_csv('agent_name.csv')\n",
    "    return df_ua"
   ]
  },
  {
   "cell_type": "code",
   "execution_count": 393,
   "metadata": {
    "collapsed": false
   },
   "outputs": [],
   "source": [
    "#read in the agent os file i generated from user agent API\n",
    "df_agent_os=pd.read_csv('agent_name.csv')"
   ]
  },
  {
   "cell_type": "code",
   "execution_count": 394,
   "metadata": {
    "collapsed": false
   },
   "outputs": [
    {
     "data": {
      "text/plain": [
       "array(['Unnamed: 0', '0', '1'], dtype=object)"
      ]
     },
     "execution_count": 394,
     "metadata": {},
     "output_type": "execute_result"
    }
   ],
   "source": [
    "df_agent_os.columns.values"
   ]
  },
  {
   "cell_type": "code",
   "execution_count": 395,
   "metadata": {
    "collapsed": false
   },
   "outputs": [],
   "source": [
    "df_agent_os.rename(columns={'Unnamed: 0':'ua','0':'os','1':'agent_name'},inplace=True)"
   ]
  },
  {
   "cell_type": "code",
   "execution_count": 396,
   "metadata": {
    "collapsed": false
   },
   "outputs": [
    {
     "data": {
      "text/html": [
       "<div>\n",
       "<table border=\"1\" class=\"dataframe\">\n",
       "  <thead>\n",
       "    <tr style=\"text-align: right;\">\n",
       "      <th></th>\n",
       "      <th>ua</th>\n",
       "      <th>os</th>\n",
       "      <th>agent_name</th>\n",
       "    </tr>\n",
       "  </thead>\n",
       "  <tbody>\n",
       "    <tr>\n",
       "      <th>0</th>\n",
       "      <td>Mozilla/5.0 (Linux; Android 5.1.1; Ilium_PAD_i...</td>\n",
       "      <td>Android</td>\n",
       "      <td>Android Webkit Browser</td>\n",
       "    </tr>\n",
       "    <tr>\n",
       "      <th>1</th>\n",
       "      <td>Mozilla/5.0 (Linux; Android 4.4.2; SM-G355M Bu...</td>\n",
       "      <td>Android</td>\n",
       "      <td>Android Webkit Browser</td>\n",
       "    </tr>\n",
       "    <tr>\n",
       "      <th>2</th>\n",
       "      <td>Mozilla/5.0 (Windows NT 6.3; WOW64; Trident/7....</td>\n",
       "      <td>Windows NT</td>\n",
       "      <td>Internet Explorer</td>\n",
       "    </tr>\n",
       "    <tr>\n",
       "      <th>3</th>\n",
       "      <td>Mozilla/5.0 (Linux; Android 5.0.1; SM-N910P Bu...</td>\n",
       "      <td>Android</td>\n",
       "      <td>Android Webkit Browser</td>\n",
       "    </tr>\n",
       "    <tr>\n",
       "      <th>4</th>\n",
       "      <td>Mozilla/5.0 (Linux; Android 4.4.4; ILIUM L900 ...</td>\n",
       "      <td>Android</td>\n",
       "      <td>Android Webkit Browser</td>\n",
       "    </tr>\n",
       "  </tbody>\n",
       "</table>\n",
       "</div>"
      ],
      "text/plain": [
       "                                                  ua          os  \\\n",
       "0  Mozilla/5.0 (Linux; Android 5.1.1; Ilium_PAD_i...     Android   \n",
       "1  Mozilla/5.0 (Linux; Android 4.4.2; SM-G355M Bu...     Android   \n",
       "2  Mozilla/5.0 (Windows NT 6.3; WOW64; Trident/7....  Windows NT   \n",
       "3  Mozilla/5.0 (Linux; Android 5.0.1; SM-N910P Bu...     Android   \n",
       "4  Mozilla/5.0 (Linux; Android 4.4.4; ILIUM L900 ...     Android   \n",
       "\n",
       "               agent_name  \n",
       "0  Android Webkit Browser  \n",
       "1  Android Webkit Browser  \n",
       "2       Internet Explorer  \n",
       "3  Android Webkit Browser  \n",
       "4  Android Webkit Browser  "
      ]
     },
     "execution_count": 396,
     "metadata": {},
     "output_type": "execute_result"
    }
   ],
   "source": [
    "df_agent_os.head()"
   ]
  },
  {
   "cell_type": "code",
   "execution_count": 397,
   "metadata": {
    "collapsed": false
   },
   "outputs": [],
   "source": [
    "df=df.merge(df_agent_os,left_on='ua',right_on='ua',how='left')"
   ]
  },
  {
   "cell_type": "markdown",
   "metadata": {},
   "source": [
    "####  Calculate the percentile of each time difference between actions"
   ]
  },
  {
   "cell_type": "code",
   "execution_count": 398,
   "metadata": {
    "collapsed": true
   },
   "outputs": [],
   "source": [
    "df.sort_values(by=['device_id','created_at'],ascending=True,inplace=True)\n",
    "device_grouped=df.groupby(by='device_id')\n",
    "df['time_diff']=device_grouped.created_at.diff()"
   ]
  },
  {
   "cell_type": "code",
   "execution_count": 399,
   "metadata": {
    "collapsed": false
   },
   "outputs": [],
   "source": [
    "df.time_diff=df.time_diff.fillna(df.time_diff.mean())"
   ]
  },
  {
   "cell_type": "code",
   "execution_count": 400,
   "metadata": {
    "collapsed": false
   },
   "outputs": [],
   "source": [
    "df['time_diff_pct']=df.time_diff.rank(pct=True)"
   ]
  },
  {
   "cell_type": "code",
   "execution_count": 401,
   "metadata": {
    "collapsed": false
   },
   "outputs": [
    {
     "data": {
      "text/plain": [
       "Index([u'created_at', u'user_id', u'session_id', u'device_id', u'ua', u'l',\n",
       "       u'name', u'custom_name', u'ip', u'continent', u'country', u'city',\n",
       "       u'lon', u'lat', u'accuracy', u'isp_name', u'datacenter', u'proxy',\n",
       "       u'mobile_device', u'os', u'agent_name', u'time_diff', u'time_diff_pct'],\n",
       "      dtype='object')"
      ]
     },
     "execution_count": 401,
     "metadata": {},
     "output_type": "execute_result"
    }
   ],
   "source": [
    "df.columns"
   ]
  },
  {
   "cell_type": "markdown",
   "metadata": {},
   "source": [
    "#### Calculate the speed ofuser travels"
   ]
  },
  {
   "cell_type": "code",
   "execution_count": 402,
   "metadata": {
    "collapsed": true
   },
   "outputs": [],
   "source": [
    "df['lon_diff']=device_grouped.lon.diff()\n",
    "df['lat_diff']=device_grouped.lat.diff()"
   ]
  },
  {
   "cell_type": "code",
   "execution_count": 403,
   "metadata": {
    "collapsed": true
   },
   "outputs": [],
   "source": [
    "df['speed']=(df.lon_diff.pow(2)+df.lat_diff.pow(2))/df.time_diff"
   ]
  },
  {
   "cell_type": "code",
   "execution_count": 404,
   "metadata": {
    "collapsed": true
   },
   "outputs": [],
   "source": [
    "df.speed=df.speed.fillna(0)"
   ]
  },
  {
   "cell_type": "markdown",
   "metadata": {},
   "source": [
    "#### Calculate the percentile of each time difference between actions, country, isp_name, agent_name"
   ]
  },
  {
   "cell_type": "code",
   "execution_count": 405,
   "metadata": {
    "collapsed": true
   },
   "outputs": [],
   "source": [
    "# function to convert categorical to percentile\n",
    "def cat_to_pct(df,col):\n",
    "    pct=df[col].value_counts(dropna=False)/df[col].notnull().sum()\n",
    "    df=df.join(pct,on=[col],how='left',rsuffix='_pct')\n",
    "    return df"
   ]
  },
  {
   "cell_type": "code",
   "execution_count": 406,
   "metadata": {
    "collapsed": true
   },
   "outputs": [],
   "source": [
    "df=cat_to_pct(df,'os')"
   ]
  },
  {
   "cell_type": "code",
   "execution_count": 407,
   "metadata": {
    "collapsed": true
   },
   "outputs": [],
   "source": [
    "df=cat_to_pct(df,'country')"
   ]
  },
  {
   "cell_type": "code",
   "execution_count": 408,
   "metadata": {
    "collapsed": true
   },
   "outputs": [],
   "source": [
    "df=cat_to_pct(df,'continent')"
   ]
  },
  {
   "cell_type": "code",
   "execution_count": 409,
   "metadata": {
    "collapsed": true
   },
   "outputs": [],
   "source": [
    "df=cat_to_pct(df,'isp_name')"
   ]
  },
  {
   "cell_type": "code",
   "execution_count": 410,
   "metadata": {
    "collapsed": true
   },
   "outputs": [],
   "source": [
    "df=cat_to_pct(df,'agent_name')"
   ]
  },
  {
   "cell_type": "code",
   "execution_count": 411,
   "metadata": {
    "collapsed": true
   },
   "outputs": [],
   "source": [
    "df=cat_to_pct(df,'name')"
   ]
  },
  {
   "cell_type": "code",
   "execution_count": 412,
   "metadata": {
    "collapsed": false
   },
   "outputs": [
    {
     "data": {
      "text/plain": [
       "Index([u'created_at', u'user_id', u'session_id', u'device_id', u'ua', u'l',\n",
       "       u'name', u'custom_name', u'ip', u'continent', u'country', u'city',\n",
       "       u'lon', u'lat', u'accuracy', u'isp_name', u'datacenter', u'proxy',\n",
       "       u'mobile_device', u'os', u'agent_name', u'time_diff', u'time_diff_pct',\n",
       "       u'lon_diff', u'lat_diff', u'speed', u'os_pct', u'country_pct',\n",
       "       u'continent_pct', u'isp_name_pct', u'agent_name_pct', u'name_pct'],\n",
       "      dtype='object')"
      ]
     },
     "execution_count": 412,
     "metadata": {},
     "output_type": "execute_result"
    }
   ],
   "source": [
    "df.columns"
   ]
  },
  {
   "cell_type": "code",
   "execution_count": 413,
   "metadata": {
    "collapsed": false
   },
   "outputs": [],
   "source": [
    "device_id=df.device_id.copy()\n",
    "df_model=df.drop(['created_at','user_id','session_id','device_id','ua','l','name','custom_name'\\\n",
    "                  ,'ip','continent','country','city','lon','lat','accuracy','isp_name','os','agent_name'\\\n",
    "                  ,'lon_diff','lat_diff'\\\n",
    "                 ,'time_diff'],axis=1)\n",
    "#df_model=df_model.drop(['l','city','isp_name'],axis=1)"
   ]
  },
  {
   "cell_type": "markdown",
   "metadata": {},
   "source": [
    "#### Normalize df_model to input into the model"
   ]
  },
  {
   "cell_type": "code",
   "execution_count": 414,
   "metadata": {
    "collapsed": false
   },
   "outputs": [],
   "source": [
    "from sklearn import preprocessing\n",
    "min_max_scaler = preprocessing.MinMaxScaler()"
   ]
  },
  {
   "cell_type": "code",
   "execution_count": 415,
   "metadata": {
    "collapsed": false
   },
   "outputs": [
    {
     "name": "stderr",
     "output_type": "stream",
     "text": [
      "C:\\Anaconda2\\lib\\site-packages\\ipykernel\\__main__.py:1: FutureWarning: reshape is deprecated and will raise in a subsequent release. Please use .values.reshape(...) instead\n",
      "  if __name__ == '__main__':\n"
     ]
    }
   ],
   "source": [
    "df_model.name_pct=min_max_scaler.fit_transform(df_model.name_pct.reshape(-1,1))"
   ]
  },
  {
   "cell_type": "code",
   "execution_count": 416,
   "metadata": {
    "collapsed": false
   },
   "outputs": [],
   "source": [
    "df_model.datacenter=df_model.datacenter.astype('int')*0.5\n",
    "df_model.proxy=df_model.proxy.astype('int')*0.5\n",
    "df_model.mobile_device=df_model.mobile_device.astype('int')*0.5"
   ]
  },
  {
   "cell_type": "code",
   "execution_count": 417,
   "metadata": {
    "collapsed": false
   },
   "outputs": [],
   "source": [
    "#initialize isolation forest\n",
    "from sklearn.ensemble import IsolationForest\n",
    "seed=25\n",
    "sf=IsolationForest(contamination=0.001,n_jobs=-1,random_state=seed)"
   ]
  },
  {
   "cell_type": "code",
   "execution_count": 418,
   "metadata": {
    "collapsed": false
   },
   "outputs": [
    {
     "data": {
      "text/plain": [
       "IsolationForest(bootstrap=False, contamination=0.001, max_features=1.0,\n",
       "        max_samples='auto', n_estimators=100, n_jobs=-1, random_state=25,\n",
       "        verbose=0)"
      ]
     },
     "execution_count": 418,
     "metadata": {},
     "output_type": "execute_result"
    }
   ],
   "source": [
    "# fitting the isolation forest model\n",
    "sf.fit(df_model)\n"
   ]
  },
  {
   "cell_type": "code",
   "execution_count": 419,
   "metadata": {
    "collapsed": false
   },
   "outputs": [],
   "source": [
    "predict_anom=sf.predict(df_model)"
   ]
  },
  {
   "cell_type": "code",
   "execution_count": 420,
   "metadata": {
    "collapsed": false
   },
   "outputs": [],
   "source": [
    "df_model['score']=predict_anom"
   ]
  },
  {
   "cell_type": "code",
   "execution_count": 421,
   "metadata": {
    "collapsed": true
   },
   "outputs": [],
   "source": [
    "df['score']=predict_anom"
   ]
  },
  {
   "cell_type": "code",
   "execution_count": 422,
   "metadata": {
    "collapsed": false
   },
   "outputs": [],
   "source": [
    "df_anom=df[df.score==-1]"
   ]
  },
  {
   "cell_type": "code",
   "execution_count": 423,
   "metadata": {
    "collapsed": false
   },
   "outputs": [
    {
     "data": {
      "text/plain": [
       "Index([u'created_at', u'user_id', u'session_id', u'device_id', u'ua', u'l',\n",
       "       u'name', u'custom_name', u'ip', u'continent', u'country', u'city',\n",
       "       u'lon', u'lat', u'accuracy', u'isp_name', u'datacenter', u'proxy',\n",
       "       u'mobile_device', u'os', u'agent_name', u'time_diff', u'time_diff_pct',\n",
       "       u'lon_diff', u'lat_diff', u'speed', u'os_pct', u'country_pct',\n",
       "       u'continent_pct', u'isp_name_pct', u'agent_name_pct', u'name_pct',\n",
       "       u'score'],\n",
       "      dtype='object')"
      ]
     },
     "execution_count": 423,
     "metadata": {},
     "output_type": "execute_result"
    }
   ],
   "source": [
    "df_anom.columns"
   ]
  },
  {
   "cell_type": "code",
   "execution_count": 424,
   "metadata": {
    "collapsed": false
   },
   "outputs": [
    {
     "data": {
      "text/html": [
       "<div>\n",
       "<table border=\"1\" class=\"dataframe\">\n",
       "  <thead>\n",
       "    <tr style=\"text-align: right;\">\n",
       "      <th></th>\n",
       "      <th>created_at</th>\n",
       "      <th>user_id</th>\n",
       "      <th>session_id</th>\n",
       "      <th>device_id</th>\n",
       "      <th>ua</th>\n",
       "      <th>l</th>\n",
       "      <th>name</th>\n",
       "      <th>custom_name</th>\n",
       "      <th>ip</th>\n",
       "      <th>continent</th>\n",
       "      <th>country</th>\n",
       "      <th>city</th>\n",
       "      <th>lon</th>\n",
       "      <th>lat</th>\n",
       "      <th>accuracy</th>\n",
       "      <th>isp_name</th>\n",
       "      <th>datacenter</th>\n",
       "      <th>proxy</th>\n",
       "      <th>mobile_device</th>\n",
       "      <th>os</th>\n",
       "    </tr>\n",
       "  </thead>\n",
       "  <tbody>\n",
       "    <tr>\n",
       "      <th>1491583</th>\n",
       "      <td>1470711576266</td>\n",
       "      <td>5794748</td>\n",
       "      <td>70905446</td>\n",
       "      <td>7890958</td>\n",
       "      <td>Mozilla/5.0 (Windows NT 10.0; Win64; x64) Appl...</td>\n",
       "      <td>NaN</td>\n",
       "      <td>page_viewed</td>\n",
       "      <td>NaN</td>\n",
       "      <td>207.244.83.106</td>\n",
       "      <td>North America</td>\n",
       "      <td>United States</td>\n",
       "      <td>Manassas</td>\n",
       "      <td>-77.6321</td>\n",
       "      <td>38.7701</td>\n",
       "      <td>1000.0</td>\n",
       "      <td>Leaseweb USA</td>\n",
       "      <td>True</td>\n",
       "      <td>False</td>\n",
       "      <td>False</td>\n",
       "      <td>Windows 10</td>\n",
       "    </tr>\n",
       "    <tr>\n",
       "      <th>1476129</th>\n",
       "      <td>1470874241030</td>\n",
       "      <td>5794748</td>\n",
       "      <td>72867752</td>\n",
       "      <td>7890958</td>\n",
       "      <td>Mozilla/5.0 (Windows NT 10.0; Win64; x64) Appl...</td>\n",
       "      <td>NaN</td>\n",
       "      <td>page_viewed</td>\n",
       "      <td>NaN</td>\n",
       "      <td>207.244.83.106</td>\n",
       "      <td>North America</td>\n",
       "      <td>United States</td>\n",
       "      <td>Manassas</td>\n",
       "      <td>-77.6321</td>\n",
       "      <td>38.7701</td>\n",
       "      <td>1000.0</td>\n",
       "      <td>Leaseweb USA</td>\n",
       "      <td>True</td>\n",
       "      <td>False</td>\n",
       "      <td>False</td>\n",
       "      <td>Windows 10</td>\n",
       "    </tr>\n",
       "    <tr>\n",
       "      <th>63477</th>\n",
       "      <td>1470779805457</td>\n",
       "      <td>5794942</td>\n",
       "      <td>71720937</td>\n",
       "      <td>7891230</td>\n",
       "      <td>Mozilla/5.0 (Windows NT 6.3; WOW64) AppleWebKi...</td>\n",
       "      <td>NaN</td>\n",
       "      <td>page_viewed</td>\n",
       "      <td>NaN</td>\n",
       "      <td>207.244.77.13</td>\n",
       "      <td>North America</td>\n",
       "      <td>United States</td>\n",
       "      <td>Manassas</td>\n",
       "      <td>-77.6321</td>\n",
       "      <td>38.7701</td>\n",
       "      <td>1000.0</td>\n",
       "      <td>Leaseweb USA</td>\n",
       "      <td>True</td>\n",
       "      <td>False</td>\n",
       "      <td>False</td>\n",
       "      <td>Windows NT</td>\n",
       "    </tr>\n",
       "    <tr>\n",
       "      <th>63478</th>\n",
       "      <td>1470779823609</td>\n",
       "      <td>5794942</td>\n",
       "      <td>71720937</td>\n",
       "      <td>7891230</td>\n",
       "      <td>Mozilla/5.0 (Windows NT 6.3; WOW64) AppleWebKi...</td>\n",
       "      <td>NaN</td>\n",
       "      <td>page_viewed</td>\n",
       "      <td>NaN</td>\n",
       "      <td>174.34.164.122</td>\n",
       "      <td>North America</td>\n",
       "      <td>United States</td>\n",
       "      <td>Chicago</td>\n",
       "      <td>-87.6248</td>\n",
       "      <td>41.8471</td>\n",
       "      <td>1000.0</td>\n",
       "      <td>Nobis Technology Group, LLC</td>\n",
       "      <td>True</td>\n",
       "      <td>False</td>\n",
       "      <td>False</td>\n",
       "      <td>Windows NT</td>\n",
       "    </tr>\n",
       "    <tr>\n",
       "      <th>63506</th>\n",
       "      <td>1470780460208</td>\n",
       "      <td>5794942</td>\n",
       "      <td>71720937</td>\n",
       "      <td>7891230</td>\n",
       "      <td>Mozilla/5.0 (Windows NT 6.3; WOW64) AppleWebKi...</td>\n",
       "      <td>NaN</td>\n",
       "      <td>page_viewed</td>\n",
       "      <td>NaN</td>\n",
       "      <td>207.244.78.8</td>\n",
       "      <td>North America</td>\n",
       "      <td>United States</td>\n",
       "      <td>Manassas</td>\n",
       "      <td>-77.6321</td>\n",
       "      <td>38.7701</td>\n",
       "      <td>1000.0</td>\n",
       "      <td>Leaseweb USA</td>\n",
       "      <td>True</td>\n",
       "      <td>False</td>\n",
       "      <td>False</td>\n",
       "      <td>Windows NT</td>\n",
       "    </tr>\n",
       "  </tbody>\n",
       "</table>\n",
       "</div>"
      ],
      "text/plain": [
       "            created_at  user_id  session_id  device_id  \\\n",
       "1491583  1470711576266  5794748    70905446    7890958   \n",
       "1476129  1470874241030  5794748    72867752    7890958   \n",
       "63477    1470779805457  5794942    71720937    7891230   \n",
       "63478    1470779823609  5794942    71720937    7891230   \n",
       "63506    1470780460208  5794942    71720937    7891230   \n",
       "\n",
       "                                                        ua    l         name  \\\n",
       "1491583  Mozilla/5.0 (Windows NT 10.0; Win64; x64) Appl...  NaN  page_viewed   \n",
       "1476129  Mozilla/5.0 (Windows NT 10.0; Win64; x64) Appl...  NaN  page_viewed   \n",
       "63477    Mozilla/5.0 (Windows NT 6.3; WOW64) AppleWebKi...  NaN  page_viewed   \n",
       "63478    Mozilla/5.0 (Windows NT 6.3; WOW64) AppleWebKi...  NaN  page_viewed   \n",
       "63506    Mozilla/5.0 (Windows NT 6.3; WOW64) AppleWebKi...  NaN  page_viewed   \n",
       "\n",
       "        custom_name              ip      continent        country      city  \\\n",
       "1491583         NaN  207.244.83.106  North America  United States  Manassas   \n",
       "1476129         NaN  207.244.83.106  North America  United States  Manassas   \n",
       "63477           NaN   207.244.77.13  North America  United States  Manassas   \n",
       "63478           NaN  174.34.164.122  North America  United States   Chicago   \n",
       "63506           NaN    207.244.78.8  North America  United States  Manassas   \n",
       "\n",
       "             lon      lat  accuracy                     isp_name datacenter  \\\n",
       "1491583 -77.6321  38.7701    1000.0                 Leaseweb USA       True   \n",
       "1476129 -77.6321  38.7701    1000.0                 Leaseweb USA       True   \n",
       "63477   -77.6321  38.7701    1000.0                 Leaseweb USA       True   \n",
       "63478   -87.6248  41.8471    1000.0  Nobis Technology Group, LLC       True   \n",
       "63506   -77.6321  38.7701    1000.0                 Leaseweb USA       True   \n",
       "\n",
       "         proxy mobile_device          os  \n",
       "1491583  False         False  Windows 10  \n",
       "1476129  False         False  Windows 10  \n",
       "63477    False         False  Windows NT  \n",
       "63478    False         False  Windows NT  \n",
       "63506    False         False  Windows NT  "
      ]
     },
     "execution_count": 424,
     "metadata": {},
     "output_type": "execute_result"
    }
   ],
   "source": [
    "df_anom.iloc[:,:20].head()"
   ]
  },
  {
   "cell_type": "code",
   "execution_count": 425,
   "metadata": {
    "collapsed": false
   },
   "outputs": [
    {
     "data": {
      "text/plain": [
       "page_viewed                                   1180\n",
       "login_succeeded                                598\n",
       "Payment With Balance                            62\n",
       "passwordChange_succeeded                        59\n",
       "registration_succeeded                          49\n",
       "passwordReset_requested                         43\n",
       "Cellphone Confirmation                          23\n",
       "Mobile Show Cvv                                 17\n",
       "Account Create Edc Deposit On Landing Page      16\n",
       "Account Login Soft Block                        15\n",
       "Regular Cellphone Confirmation                  15\n",
       "First Card Access                               10\n",
       "First Timeline Access                           10\n",
       "New Contact                                      9\n",
       "Create Withdraw                                  4\n",
       "Mobile Withdraw Check                            2\n",
       "Name: name, dtype: int64"
      ]
     },
     "execution_count": 425,
     "metadata": {},
     "output_type": "execute_result"
    }
   ],
   "source": [
    "# columns in model: 'name', u'continent', u'country', u'datacenter', u'proxy',\n",
    "#       u'mobile_device'\n",
    "df_anom.name.value_counts(dropna=False)"
   ]
  },
  {
   "cell_type": "code",
   "execution_count": 426,
   "metadata": {
    "collapsed": false
   },
   "outputs": [
    {
     "data": {
      "text/plain": [
       "page_viewed                                   1535114\n",
       "login_succeeded                                335810\n",
       "passwordChange_succeeded                        73548\n",
       "Payment With Balance                            62531\n",
       "Regular Cellphone Confirmation                  26639\n",
       "passwordReset_requested                         14829\n",
       "Create Withdraw                                 13383\n",
       "Account Create Edc Deposit On Landing Page      12417\n",
       "registration_succeeded                          11175\n",
       "Card Checkout                                    7152\n",
       "Mobile Show Cvv                                  4975\n",
       "Cellphone Confirmation                           3864\n",
       "First Timeline Access                            3580\n",
       "First Card Access                                3576\n",
       "Mobile Withdraw Check                            1728\n",
       "New Contact                                       463\n",
       "Account Login Soft Block                          200\n",
       "Mobile Account Change Password                      9\n",
       "Regular Cellphone Confirmation Failed               6\n",
       "Account Login Mobile Chat#using Token               5\n",
       "Name: name, dtype: int64"
      ]
     },
     "execution_count": 426,
     "metadata": {},
     "output_type": "execute_result"
    }
   ],
   "source": [
    "df.name.value_counts()"
   ]
  },
  {
   "cell_type": "code",
   "execution_count": 427,
   "metadata": {
    "collapsed": false
   },
   "outputs": [],
   "source": [
    "anom_gp=df_anom.groupby(by='device_id').created_at.count()"
   ]
  },
  {
   "cell_type": "code",
   "execution_count": 430,
   "metadata": {
    "collapsed": false
   },
   "outputs": [
    {
     "data": {
      "text/plain": [
       "device_id\n",
       "8066019     19\n",
       "8013668     18\n",
       "8564151     18\n",
       "8302850     18\n",
       "8019509     17\n",
       "7949210     16\n",
       "10451762    15\n",
       "8737334     15\n",
       "10351834    14\n",
       "8283694     13\n",
       "7927147     13\n",
       "8459576     12\n",
       "11202414    12\n",
       "8651184     11\n",
       "8083873     11\n",
       "7975122     11\n",
       "9275580     10\n",
       "9557890     10\n",
       "8155942     10\n",
       "8260962     10\n",
       "Name: created_at, dtype: int64"
      ]
     },
     "execution_count": 430,
     "metadata": {},
     "output_type": "execute_result"
    }
   ],
   "source": [
    "result=anom_gp.sort_values(ascending=False)\n",
    "result[:20]"
   ]
  },
  {
   "cell_type": "code",
   "execution_count": 429,
   "metadata": {
    "collapsed": false
   },
   "outputs": [
    {
     "data": {
      "text/html": [
       "<div>\n",
       "<table border=\"1\" class=\"dataframe\">\n",
       "  <thead>\n",
       "    <tr style=\"text-align: right;\">\n",
       "      <th></th>\n",
       "      <th>lat</th>\n",
       "      <th>accuracy</th>\n",
       "      <th>isp_name</th>\n",
       "      <th>datacenter</th>\n",
       "      <th>proxy</th>\n",
       "      <th>mobile_device</th>\n",
       "      <th>os</th>\n",
       "      <th>agent_name</th>\n",
       "      <th>time_diff</th>\n",
       "      <th>time_diff_pct</th>\n",
       "      <th>lon_diff</th>\n",
       "      <th>lat_diff</th>\n",
       "      <th>speed</th>\n",
       "      <th>os_pct</th>\n",
       "      <th>country_pct</th>\n",
       "      <th>continent_pct</th>\n",
       "      <th>isp_name_pct</th>\n",
       "      <th>agent_name_pct</th>\n",
       "      <th>name_pct</th>\n",
       "      <th>score</th>\n",
       "    </tr>\n",
       "  </thead>\n",
       "  <tbody>\n",
       "    <tr>\n",
       "      <th>820043</th>\n",
       "      <td>41.8471</td>\n",
       "      <td>1000.0</td>\n",
       "      <td>Nobis Technology Group, LLC</td>\n",
       "      <td>True</td>\n",
       "      <td>False</td>\n",
       "      <td>False</td>\n",
       "      <td>Windows 7</td>\n",
       "      <td>Chrome</td>\n",
       "      <td>1096293.0</td>\n",
       "      <td>0.674337</td>\n",
       "      <td>-9.9927</td>\n",
       "      <td>3.0770</td>\n",
       "      <td>0.000100</td>\n",
       "      <td>0.285214</td>\n",
       "      <td>0.008106</td>\n",
       "      <td>0.10395</td>\n",
       "      <td>0.000508</td>\n",
       "      <td>0.475437</td>\n",
       "      <td>0.727196</td>\n",
       "      <td>-1</td>\n",
       "    </tr>\n",
       "    <tr>\n",
       "      <th>820175</th>\n",
       "      <td>38.7701</td>\n",
       "      <td>1000.0</td>\n",
       "      <td>Leaseweb USA</td>\n",
       "      <td>True</td>\n",
       "      <td>False</td>\n",
       "      <td>False</td>\n",
       "      <td>Windows 7</td>\n",
       "      <td>Chrome</td>\n",
       "      <td>27151.0</td>\n",
       "      <td>0.340910</td>\n",
       "      <td>9.9927</td>\n",
       "      <td>-3.0770</td>\n",
       "      <td>0.004026</td>\n",
       "      <td>0.285214</td>\n",
       "      <td>0.008106</td>\n",
       "      <td>0.10395</td>\n",
       "      <td>0.002771</td>\n",
       "      <td>0.475437</td>\n",
       "      <td>0.727196</td>\n",
       "      <td>-1</td>\n",
       "    </tr>\n",
       "    <tr>\n",
       "      <th>820185</th>\n",
       "      <td>41.8471</td>\n",
       "      <td>1000.0</td>\n",
       "      <td>Nobis Technology Group, LLC</td>\n",
       "      <td>True</td>\n",
       "      <td>False</td>\n",
       "      <td>False</td>\n",
       "      <td>Windows 7</td>\n",
       "      <td>Chrome</td>\n",
       "      <td>35195.0</td>\n",
       "      <td>0.391289</td>\n",
       "      <td>-9.9927</td>\n",
       "      <td>3.0770</td>\n",
       "      <td>0.003106</td>\n",
       "      <td>0.285214</td>\n",
       "      <td>0.008106</td>\n",
       "      <td>0.10395</td>\n",
       "      <td>0.000508</td>\n",
       "      <td>0.475437</td>\n",
       "      <td>0.727196</td>\n",
       "      <td>-1</td>\n",
       "    </tr>\n",
       "    <tr>\n",
       "      <th>820190</th>\n",
       "      <td>38.7701</td>\n",
       "      <td>1000.0</td>\n",
       "      <td>Leaseweb USA</td>\n",
       "      <td>True</td>\n",
       "      <td>False</td>\n",
       "      <td>False</td>\n",
       "      <td>Windows 7</td>\n",
       "      <td>Chrome</td>\n",
       "      <td>27750.0</td>\n",
       "      <td>0.345196</td>\n",
       "      <td>9.9927</td>\n",
       "      <td>-3.0770</td>\n",
       "      <td>0.003940</td>\n",
       "      <td>0.285214</td>\n",
       "      <td>0.008106</td>\n",
       "      <td>0.10395</td>\n",
       "      <td>0.002771</td>\n",
       "      <td>0.475437</td>\n",
       "      <td>0.727196</td>\n",
       "      <td>-1</td>\n",
       "    </tr>\n",
       "    <tr>\n",
       "      <th>1990364</th>\n",
       "      <td>32.7825</td>\n",
       "      <td>1000.0</td>\n",
       "      <td>Nobis Technology Group, LLC</td>\n",
       "      <td>True</td>\n",
       "      <td>False</td>\n",
       "      <td>False</td>\n",
       "      <td>Windows 7</td>\n",
       "      <td>Chrome</td>\n",
       "      <td>19259569.0</td>\n",
       "      <td>0.733945</td>\n",
       "      <td>-19.1886</td>\n",
       "      <td>-5.9876</td>\n",
       "      <td>0.000021</td>\n",
       "      <td>0.285214</td>\n",
       "      <td>0.008106</td>\n",
       "      <td>0.10395</td>\n",
       "      <td>0.000508</td>\n",
       "      <td>0.475437</td>\n",
       "      <td>0.727196</td>\n",
       "      <td>-1</td>\n",
       "    </tr>\n",
       "    <tr>\n",
       "      <th>214924</th>\n",
       "      <td>38.7701</td>\n",
       "      <td>1000.0</td>\n",
       "      <td>Leaseweb USA</td>\n",
       "      <td>True</td>\n",
       "      <td>False</td>\n",
       "      <td>False</td>\n",
       "      <td>Windows 7</td>\n",
       "      <td>Chrome</td>\n",
       "      <td>36246130.0</td>\n",
       "      <td>0.747908</td>\n",
       "      <td>19.1886</td>\n",
       "      <td>5.9876</td>\n",
       "      <td>0.000011</td>\n",
       "      <td>0.285214</td>\n",
       "      <td>0.008106</td>\n",
       "      <td>0.10395</td>\n",
       "      <td>0.002771</td>\n",
       "      <td>0.475437</td>\n",
       "      <td>0.727196</td>\n",
       "      <td>-1</td>\n",
       "    </tr>\n",
       "    <tr>\n",
       "      <th>145960</th>\n",
       "      <td>41.8471</td>\n",
       "      <td>1000.0</td>\n",
       "      <td>Nobis Technology Group, LLC</td>\n",
       "      <td>True</td>\n",
       "      <td>False</td>\n",
       "      <td>False</td>\n",
       "      <td>Windows 7</td>\n",
       "      <td>Chrome</td>\n",
       "      <td>11925364.0</td>\n",
       "      <td>0.724328</td>\n",
       "      <td>-9.9927</td>\n",
       "      <td>3.0770</td>\n",
       "      <td>0.000009</td>\n",
       "      <td>0.285214</td>\n",
       "      <td>0.008106</td>\n",
       "      <td>0.10395</td>\n",
       "      <td>0.000508</td>\n",
       "      <td>0.475437</td>\n",
       "      <td>0.727196</td>\n",
       "      <td>-1</td>\n",
       "    </tr>\n",
       "    <tr>\n",
       "      <th>226375</th>\n",
       "      <td>38.7510</td>\n",
       "      <td>500.0</td>\n",
       "      <td>Leaseweb USA</td>\n",
       "      <td>True</td>\n",
       "      <td>False</td>\n",
       "      <td>False</td>\n",
       "      <td>Windows 7</td>\n",
       "      <td>Chrome</td>\n",
       "      <td>3698371.0</td>\n",
       "      <td>0.702136</td>\n",
       "      <td>10.1495</td>\n",
       "      <td>-3.0961</td>\n",
       "      <td>0.000030</td>\n",
       "      <td>0.285214</td>\n",
       "      <td>0.008106</td>\n",
       "      <td>0.10395</td>\n",
       "      <td>0.002771</td>\n",
       "      <td>0.475437</td>\n",
       "      <td>0.727196</td>\n",
       "      <td>-1</td>\n",
       "    </tr>\n",
       "    <tr>\n",
       "      <th>155141</th>\n",
       "      <td>41.8471</td>\n",
       "      <td>1000.0</td>\n",
       "      <td>Nobis Technology Group, LLC</td>\n",
       "      <td>True</td>\n",
       "      <td>False</td>\n",
       "      <td>False</td>\n",
       "      <td>Windows 7</td>\n",
       "      <td>Chrome</td>\n",
       "      <td>60607.0</td>\n",
       "      <td>0.484865</td>\n",
       "      <td>-9.9927</td>\n",
       "      <td>3.0770</td>\n",
       "      <td>0.001804</td>\n",
       "      <td>0.285214</td>\n",
       "      <td>0.008106</td>\n",
       "      <td>0.10395</td>\n",
       "      <td>0.000508</td>\n",
       "      <td>0.475437</td>\n",
       "      <td>0.727196</td>\n",
       "      <td>-1</td>\n",
       "    </tr>\n",
       "    <tr>\n",
       "      <th>133428</th>\n",
       "      <td>39.6734</td>\n",
       "      <td>1000.0</td>\n",
       "      <td>Leaseweb USA</td>\n",
       "      <td>True</td>\n",
       "      <td>False</td>\n",
       "      <td>False</td>\n",
       "      <td>Windows 7</td>\n",
       "      <td>Chrome</td>\n",
       "      <td>12636818.0</td>\n",
       "      <td>0.725451</td>\n",
       "      <td>11.9196</td>\n",
       "      <td>-2.1737</td>\n",
       "      <td>0.000012</td>\n",
       "      <td>0.285214</td>\n",
       "      <td>0.008106</td>\n",
       "      <td>0.10395</td>\n",
       "      <td>0.002771</td>\n",
       "      <td>0.475437</td>\n",
       "      <td>0.727196</td>\n",
       "      <td>-1</td>\n",
       "    </tr>\n",
       "    <tr>\n",
       "      <th>133441</th>\n",
       "      <td>38.7701</td>\n",
       "      <td>1000.0</td>\n",
       "      <td>Leaseweb USA</td>\n",
       "      <td>True</td>\n",
       "      <td>False</td>\n",
       "      <td>False</td>\n",
       "      <td>Windows 7</td>\n",
       "      <td>Chrome</td>\n",
       "      <td>137067.0</td>\n",
       "      <td>0.572294</td>\n",
       "      <td>-1.9269</td>\n",
       "      <td>-0.9033</td>\n",
       "      <td>0.000033</td>\n",
       "      <td>0.285214</td>\n",
       "      <td>0.008106</td>\n",
       "      <td>0.10395</td>\n",
       "      <td>0.002771</td>\n",
       "      <td>0.475437</td>\n",
       "      <td>0.727196</td>\n",
       "      <td>-1</td>\n",
       "    </tr>\n",
       "    <tr>\n",
       "      <th>133454</th>\n",
       "      <td>39.6734</td>\n",
       "      <td>1000.0</td>\n",
       "      <td>Leaseweb USA</td>\n",
       "      <td>True</td>\n",
       "      <td>False</td>\n",
       "      <td>False</td>\n",
       "      <td>Windows 7</td>\n",
       "      <td>Chrome</td>\n",
       "      <td>179313.0</td>\n",
       "      <td>0.592429</td>\n",
       "      <td>1.9269</td>\n",
       "      <td>0.9033</td>\n",
       "      <td>0.000025</td>\n",
       "      <td>0.285214</td>\n",
       "      <td>0.008106</td>\n",
       "      <td>0.10395</td>\n",
       "      <td>0.002771</td>\n",
       "      <td>0.475437</td>\n",
       "      <td>0.727196</td>\n",
       "      <td>-1</td>\n",
       "    </tr>\n",
       "    <tr>\n",
       "      <th>133628</th>\n",
       "      <td>33.7480</td>\n",
       "      <td>1000.0</td>\n",
       "      <td>Nobis Technology Group, LLC</td>\n",
       "      <td>True</td>\n",
       "      <td>False</td>\n",
       "      <td>False</td>\n",
       "      <td>Windows 7</td>\n",
       "      <td>Chrome</td>\n",
       "      <td>38537.0</td>\n",
       "      <td>0.408358</td>\n",
       "      <td>-6.7537</td>\n",
       "      <td>-5.0221</td>\n",
       "      <td>0.001838</td>\n",
       "      <td>0.285214</td>\n",
       "      <td>0.008106</td>\n",
       "      <td>0.10395</td>\n",
       "      <td>0.000508</td>\n",
       "      <td>0.475437</td>\n",
       "      <td>0.727196</td>\n",
       "      <td>-1</td>\n",
       "    </tr>\n",
       "    <tr>\n",
       "      <th>184851</th>\n",
       "      <td>38.7701</td>\n",
       "      <td>1000.0</td>\n",
       "      <td>Leaseweb USA</td>\n",
       "      <td>True</td>\n",
       "      <td>False</td>\n",
       "      <td>False</td>\n",
       "      <td>Windows 7</td>\n",
       "      <td>Chrome</td>\n",
       "      <td>1891437.0</td>\n",
       "      <td>0.688580</td>\n",
       "      <td>6.7537</td>\n",
       "      <td>5.0221</td>\n",
       "      <td>0.000037</td>\n",
       "      <td>0.285214</td>\n",
       "      <td>0.008106</td>\n",
       "      <td>0.10395</td>\n",
       "      <td>0.002771</td>\n",
       "      <td>0.475437</td>\n",
       "      <td>0.727196</td>\n",
       "      <td>-1</td>\n",
       "    </tr>\n",
       "    <tr>\n",
       "      <th>225493</th>\n",
       "      <td>41.8471</td>\n",
       "      <td>1000.0</td>\n",
       "      <td>Nobis Technology Group, LLC</td>\n",
       "      <td>True</td>\n",
       "      <td>False</td>\n",
       "      <td>False</td>\n",
       "      <td>Windows 7</td>\n",
       "      <td>Chrome</td>\n",
       "      <td>5363868.0</td>\n",
       "      <td>0.708970</td>\n",
       "      <td>-9.9927</td>\n",
       "      <td>3.0770</td>\n",
       "      <td>0.000020</td>\n",
       "      <td>0.285214</td>\n",
       "      <td>0.008106</td>\n",
       "      <td>0.10395</td>\n",
       "      <td>0.000508</td>\n",
       "      <td>0.475437</td>\n",
       "      <td>0.727196</td>\n",
       "      <td>-1</td>\n",
       "    </tr>\n",
       "    <tr>\n",
       "      <th>1967928</th>\n",
       "      <td>39.6734</td>\n",
       "      <td>1000.0</td>\n",
       "      <td>Leaseweb USA</td>\n",
       "      <td>True</td>\n",
       "      <td>False</td>\n",
       "      <td>False</td>\n",
       "      <td>Windows 7</td>\n",
       "      <td>Chrome</td>\n",
       "      <td>17051191.0</td>\n",
       "      <td>0.731360</td>\n",
       "      <td>11.9196</td>\n",
       "      <td>-2.1737</td>\n",
       "      <td>0.000009</td>\n",
       "      <td>0.285214</td>\n",
       "      <td>0.008106</td>\n",
       "      <td>0.10395</td>\n",
       "      <td>0.002771</td>\n",
       "      <td>0.475437</td>\n",
       "      <td>0.727196</td>\n",
       "      <td>-1</td>\n",
       "    </tr>\n",
       "    <tr>\n",
       "      <th>220639</th>\n",
       "      <td>33.7480</td>\n",
       "      <td>1000.0</td>\n",
       "      <td>Nobis Technology Group, LLC</td>\n",
       "      <td>True</td>\n",
       "      <td>False</td>\n",
       "      <td>False</td>\n",
       "      <td>Windows 7</td>\n",
       "      <td>Chrome</td>\n",
       "      <td>11585249.0</td>\n",
       "      <td>0.723678</td>\n",
       "      <td>-37.8691</td>\n",
       "      <td>57.4147</td>\n",
       "      <td>0.000408</td>\n",
       "      <td>0.285214</td>\n",
       "      <td>0.008106</td>\n",
       "      <td>0.10395</td>\n",
       "      <td>0.000508</td>\n",
       "      <td>0.475437</td>\n",
       "      <td>0.727196</td>\n",
       "      <td>-1</td>\n",
       "    </tr>\n",
       "    <tr>\n",
       "      <th>157039</th>\n",
       "      <td>38.7510</td>\n",
       "      <td>500.0</td>\n",
       "      <td>Leaseweb USA</td>\n",
       "      <td>True</td>\n",
       "      <td>False</td>\n",
       "      <td>False</td>\n",
       "      <td>Windows 7</td>\n",
       "      <td>Chrome</td>\n",
       "      <td>6753186.0</td>\n",
       "      <td>0.713154</td>\n",
       "      <td>6.9105</td>\n",
       "      <td>5.0030</td>\n",
       "      <td>0.000011</td>\n",
       "      <td>0.285214</td>\n",
       "      <td>0.008106</td>\n",
       "      <td>0.10395</td>\n",
       "      <td>0.002771</td>\n",
       "      <td>0.475437</td>\n",
       "      <td>0.727196</td>\n",
       "      <td>-1</td>\n",
       "    </tr>\n",
       "    <tr>\n",
       "      <th>1896097</th>\n",
       "      <td>38.7701</td>\n",
       "      <td>500.0</td>\n",
       "      <td>Leaseweb USA</td>\n",
       "      <td>True</td>\n",
       "      <td>False</td>\n",
       "      <td>False</td>\n",
       "      <td>Windows 7</td>\n",
       "      <td>Chrome</td>\n",
       "      <td>15060964.0</td>\n",
       "      <td>0.728853</td>\n",
       "      <td>-31.1154</td>\n",
       "      <td>62.4368</td>\n",
       "      <td>0.000323</td>\n",
       "      <td>0.285214</td>\n",
       "      <td>0.008106</td>\n",
       "      <td>0.10395</td>\n",
       "      <td>0.002771</td>\n",
       "      <td>0.475437</td>\n",
       "      <td>0.727196</td>\n",
       "      <td>-1</td>\n",
       "    </tr>\n",
       "  </tbody>\n",
       "</table>\n",
       "</div>"
      ],
      "text/plain": [
       "             lat  accuracy                     isp_name datacenter  proxy  \\\n",
       "820043   41.8471    1000.0  Nobis Technology Group, LLC       True  False   \n",
       "820175   38.7701    1000.0                 Leaseweb USA       True  False   \n",
       "820185   41.8471    1000.0  Nobis Technology Group, LLC       True  False   \n",
       "820190   38.7701    1000.0                 Leaseweb USA       True  False   \n",
       "1990364  32.7825    1000.0  Nobis Technology Group, LLC       True  False   \n",
       "214924   38.7701    1000.0                 Leaseweb USA       True  False   \n",
       "145960   41.8471    1000.0  Nobis Technology Group, LLC       True  False   \n",
       "226375   38.7510     500.0                 Leaseweb USA       True  False   \n",
       "155141   41.8471    1000.0  Nobis Technology Group, LLC       True  False   \n",
       "133428   39.6734    1000.0                 Leaseweb USA       True  False   \n",
       "133441   38.7701    1000.0                 Leaseweb USA       True  False   \n",
       "133454   39.6734    1000.0                 Leaseweb USA       True  False   \n",
       "133628   33.7480    1000.0  Nobis Technology Group, LLC       True  False   \n",
       "184851   38.7701    1000.0                 Leaseweb USA       True  False   \n",
       "225493   41.8471    1000.0  Nobis Technology Group, LLC       True  False   \n",
       "1967928  39.6734    1000.0                 Leaseweb USA       True  False   \n",
       "220639   33.7480    1000.0  Nobis Technology Group, LLC       True  False   \n",
       "157039   38.7510     500.0                 Leaseweb USA       True  False   \n",
       "1896097  38.7701     500.0                 Leaseweb USA       True  False   \n",
       "\n",
       "        mobile_device         os agent_name   time_diff  time_diff_pct  \\\n",
       "820043          False  Windows 7     Chrome   1096293.0       0.674337   \n",
       "820175          False  Windows 7     Chrome     27151.0       0.340910   \n",
       "820185          False  Windows 7     Chrome     35195.0       0.391289   \n",
       "820190          False  Windows 7     Chrome     27750.0       0.345196   \n",
       "1990364         False  Windows 7     Chrome  19259569.0       0.733945   \n",
       "214924          False  Windows 7     Chrome  36246130.0       0.747908   \n",
       "145960          False  Windows 7     Chrome  11925364.0       0.724328   \n",
       "226375          False  Windows 7     Chrome   3698371.0       0.702136   \n",
       "155141          False  Windows 7     Chrome     60607.0       0.484865   \n",
       "133428          False  Windows 7     Chrome  12636818.0       0.725451   \n",
       "133441          False  Windows 7     Chrome    137067.0       0.572294   \n",
       "133454          False  Windows 7     Chrome    179313.0       0.592429   \n",
       "133628          False  Windows 7     Chrome     38537.0       0.408358   \n",
       "184851          False  Windows 7     Chrome   1891437.0       0.688580   \n",
       "225493          False  Windows 7     Chrome   5363868.0       0.708970   \n",
       "1967928         False  Windows 7     Chrome  17051191.0       0.731360   \n",
       "220639          False  Windows 7     Chrome  11585249.0       0.723678   \n",
       "157039          False  Windows 7     Chrome   6753186.0       0.713154   \n",
       "1896097         False  Windows 7     Chrome  15060964.0       0.728853   \n",
       "\n",
       "         lon_diff  lat_diff     speed    os_pct  country_pct  continent_pct  \\\n",
       "820043    -9.9927    3.0770  0.000100  0.285214     0.008106        0.10395   \n",
       "820175     9.9927   -3.0770  0.004026  0.285214     0.008106        0.10395   \n",
       "820185    -9.9927    3.0770  0.003106  0.285214     0.008106        0.10395   \n",
       "820190     9.9927   -3.0770  0.003940  0.285214     0.008106        0.10395   \n",
       "1990364  -19.1886   -5.9876  0.000021  0.285214     0.008106        0.10395   \n",
       "214924    19.1886    5.9876  0.000011  0.285214     0.008106        0.10395   \n",
       "145960    -9.9927    3.0770  0.000009  0.285214     0.008106        0.10395   \n",
       "226375    10.1495   -3.0961  0.000030  0.285214     0.008106        0.10395   \n",
       "155141    -9.9927    3.0770  0.001804  0.285214     0.008106        0.10395   \n",
       "133428    11.9196   -2.1737  0.000012  0.285214     0.008106        0.10395   \n",
       "133441    -1.9269   -0.9033  0.000033  0.285214     0.008106        0.10395   \n",
       "133454     1.9269    0.9033  0.000025  0.285214     0.008106        0.10395   \n",
       "133628    -6.7537   -5.0221  0.001838  0.285214     0.008106        0.10395   \n",
       "184851     6.7537    5.0221  0.000037  0.285214     0.008106        0.10395   \n",
       "225493    -9.9927    3.0770  0.000020  0.285214     0.008106        0.10395   \n",
       "1967928   11.9196   -2.1737  0.000009  0.285214     0.008106        0.10395   \n",
       "220639   -37.8691   57.4147  0.000408  0.285214     0.008106        0.10395   \n",
       "157039     6.9105    5.0030  0.000011  0.285214     0.008106        0.10395   \n",
       "1896097  -31.1154   62.4368  0.000323  0.285214     0.008106        0.10395   \n",
       "\n",
       "         isp_name_pct  agent_name_pct  name_pct  score  \n",
       "820043       0.000508        0.475437  0.727196     -1  \n",
       "820175       0.002771        0.475437  0.727196     -1  \n",
       "820185       0.000508        0.475437  0.727196     -1  \n",
       "820190       0.002771        0.475437  0.727196     -1  \n",
       "1990364      0.000508        0.475437  0.727196     -1  \n",
       "214924       0.002771        0.475437  0.727196     -1  \n",
       "145960       0.000508        0.475437  0.727196     -1  \n",
       "226375       0.002771        0.475437  0.727196     -1  \n",
       "155141       0.000508        0.475437  0.727196     -1  \n",
       "133428       0.002771        0.475437  0.727196     -1  \n",
       "133441       0.002771        0.475437  0.727196     -1  \n",
       "133454       0.002771        0.475437  0.727196     -1  \n",
       "133628       0.000508        0.475437  0.727196     -1  \n",
       "184851       0.002771        0.475437  0.727196     -1  \n",
       "225493       0.000508        0.475437  0.727196     -1  \n",
       "1967928      0.002771        0.475437  0.727196     -1  \n",
       "220639       0.000508        0.475437  0.727196     -1  \n",
       "157039       0.002771        0.475437  0.727196     -1  \n",
       "1896097      0.002771        0.475437  0.727196     -1  "
      ]
     },
     "execution_count": 429,
     "metadata": {},
     "output_type": "execute_result"
    }
   ],
   "source": [
    "df[(df.device_id==8066019)&(df.score==-1)].iloc[:,-20:]"
   ]
  },
  {
   "cell_type": "code",
   "execution_count": null,
   "metadata": {
    "collapsed": true
   },
   "outputs": [],
   "source": []
  },
  {
   "cell_type": "code",
   "execution_count": null,
   "metadata": {
    "collapsed": true
   },
   "outputs": [],
   "source": []
  },
  {
   "cell_type": "code",
   "execution_count": null,
   "metadata": {
    "collapsed": true
   },
   "outputs": [],
   "source": []
  }
 ],
 "metadata": {
  "kernelspec": {
   "display_name": "Python 2",
   "language": "python",
   "name": "python2"
  },
  "language_info": {
   "codemirror_mode": {
    "name": "ipython",
    "version": 2
   },
   "file_extension": ".py",
   "mimetype": "text/x-python",
   "name": "python",
   "nbconvert_exporter": "python",
   "pygments_lexer": "ipython2",
   "version": "2.7.12"
  }
 },
 "nbformat": 4,
 "nbformat_minor": 0
}
