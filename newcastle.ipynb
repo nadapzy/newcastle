{
 "cells": [
  {
   "cell_type": "code",
   "execution_count": 389,
   "metadata": {
    "collapsed": false
   },
   "outputs": [],
   "source": [
    "import pandas as pd\n",
    "import datetime\n",
    "df = pd.read_csv( \"castle-event-data-v4.csv\",sep=',', header=0, parse_dates=True,quoting=1 )\n"
   ]
  },
  {
   "cell_type": "code",
   "execution_count": 390,
   "metadata": {
    "collapsed": true
   },
   "outputs": [],
   "source": [
    "import numpy as np"
   ]
  },
  {
   "cell_type": "markdown",
   "metadata": {},
   "source": [
    "#### replace all values \"custome\" in column name with custom name"
   ]
  },
  {
   "cell_type": "code",
   "execution_count": 391,
   "metadata": {
    "collapsed": false
   },
   "outputs": [],
   "source": [
    "df.name=df.name.replace(to_replace='custom',value=np.nan)\n",
    "df.name=df.name.fillna(df.custom_name)"
   ]
  },
  {
   "cell_type": "markdown",
   "metadata": {},
   "source": [
    "#### read in the agent os file i generated from user agent API"
   ]
  },
  {
   "cell_type": "code",
   "execution_count": 392,
   "metadata": {
    "collapsed": true
   },
   "outputs": [],
   "source": [
    "def agent_name_from_api(ua_unique,file_name='agent_name.csv'):\n",
    "    i=0    \n",
    "    if not os.path.isfile(file_name):\n",
    "        for ua in ua_unique:\n",
    "            if i%500==0:\n",
    "                print('finishing {0} out of {1} agent'.format(i,len(ua_unique)))\n",
    "            user_agen_api = requests.get(\"http://www.useragentstring.com/?uas=\"+ua+'&getJSON=os_name-agent_name')\n",
    "            if user_agen_api.status_code==200:\n",
    "                user_agent[ua]=[user_agen_api.json()['os_name'],user_agen_api.json()['agent_name']]\n",
    "            i+=1\n",
    "        df_ua=pd.DataFrame.from_dict(user_agent,orient='index',)\n",
    "#        df_ua.column=['user_agent']\n",
    "        df_ua.to_csv('agent_name.csv')\n",
    "    else: df_ua=pd.read_csv('agent_name.csv')\n",
    "    return df_ua"
   ]
  },
  {
   "cell_type": "code",
   "execution_count": 393,
   "metadata": {
    "collapsed": false
   },
   "outputs": [],
   "source": [
    "#read in the agent os file i generated from user agent API\n",
    "df_agent_os=pd.read_csv('agent_name.csv')"
   ]
  },
  {
   "cell_type": "code",
   "execution_count": 394,
   "metadata": {
    "collapsed": false
   },
   "outputs": [
    {
     "data": {
      "text/plain": [
       "array(['Unnamed: 0', '0', '1'], dtype=object)"
      ]
     },
     "execution_count": 394,
     "metadata": {},
     "output_type": "execute_result"
    }
   ],
   "source": [
    "df_agent_os.columns.values"
   ]
  },
  {
   "cell_type": "code",
   "execution_count": 395,
   "metadata": {
    "collapsed": false
   },
   "outputs": [],
   "source": [
    "df_agent_os.rename(columns={'Unnamed: 0':'ua','0':'os','1':'agent_name'},inplace=True)"
   ]
  },
  {
   "cell_type": "code",
   "execution_count": 396,
   "metadata": {
    "collapsed": false
   },
   "outputs": [
    {
     "data": {
      "text/html": [
       "<div>\n",
       "<table border=\"1\" class=\"dataframe\">\n",
       "  <thead>\n",
       "    <tr style=\"text-align: right;\">\n",
       "      <th></th>\n",
       "      <th>ua</th>\n",
       "      <th>os</th>\n",
       "      <th>agent_name</th>\n",
       "    </tr>\n",
       "  </thead>\n",
       "  <tbody>\n",
       "    <tr>\n",
       "      <th>0</th>\n",
       "      <td>Mozilla/5.0 (Linux; Android 5.1.1; Ilium_PAD_i...</td>\n",
       "      <td>Android</td>\n",
       "      <td>Android Webkit Browser</td>\n",
       "    </tr>\n",
       "    <tr>\n",
       "      <th>1</th>\n",
       "      <td>Mozilla/5.0 (Linux; Android 4.4.2; SM-G355M Bu...</td>\n",
       "      <td>Android</td>\n",
       "      <td>Android Webkit Browser</td>\n",
       "    </tr>\n",
       "    <tr>\n",
       "      <th>2</th>\n",
       "      <td>Mozilla/5.0 (Windows NT 6.3; WOW64; Trident/7....</td>\n",
       "      <td>Windows NT</td>\n",
       "      <td>Internet Explorer</td>\n",
       "    </tr>\n",
       "    <tr>\n",
       "      <th>3</th>\n",
       "      <td>Mozilla/5.0 (Linux; Android 5.0.1; SM-N910P Bu...</td>\n",
       "      <td>Android</td>\n",
       "      <td>Android Webkit Browser</td>\n",
       "    </tr>\n",
       "    <tr>\n",
       "      <th>4</th>\n",
       "      <td>Mozilla/5.0 (Linux; Android 4.4.4; ILIUM L900 ...</td>\n",
       "      <td>Android</td>\n",
       "      <td>Android Webkit Browser</td>\n",
       "    </tr>\n",
       "  </tbody>\n",
       "</table>\n",
       "</div>"
      ],
      "text/plain": [
       "                                                  ua          os  \\\n",
       "0  Mozilla/5.0 (Linux; Android 5.1.1; Ilium_PAD_i...     Android   \n",
       "1  Mozilla/5.0 (Linux; Android 4.4.2; SM-G355M Bu...     Android   \n",
       "2  Mozilla/5.0 (Windows NT 6.3; WOW64; Trident/7....  Windows NT   \n",
       "3  Mozilla/5.0 (Linux; Android 5.0.1; SM-N910P Bu...     Android   \n",
       "4  Mozilla/5.0 (Linux; Android 4.4.4; ILIUM L900 ...     Android   \n",
       "\n",
       "               agent_name  \n",
       "0  Android Webkit Browser  \n",
       "1  Android Webkit Browser  \n",
       "2       Internet Explorer  \n",
       "3  Android Webkit Browser  \n",
       "4  Android Webkit Browser  "
      ]
     },
     "execution_count": 396,
     "metadata": {},
     "output_type": "execute_result"
    }
   ],
   "source": [
    "df_agent_os.head()"
   ]
  },
  {
   "cell_type": "code",
   "execution_count": 397,
   "metadata": {
    "collapsed": false
   },
   "outputs": [],
   "source": [
    "df=df.merge(df_agent_os,left_on='ua',right_on='ua',how='left')"
   ]
  },
  {
   "cell_type": "markdown",
   "metadata": {},
   "source": [
    "####  Calculate the percentile of each time difference between actions"
   ]
  },
  {
   "cell_type": "code",
   "execution_count": 398,
   "metadata": {
    "collapsed": true
   },
   "outputs": [],
   "source": [
    "df.sort_values(by=['device_id','created_at'],ascending=True,inplace=True)\n",
    "device_grouped=df.groupby(by='device_id')\n",
    "df['time_diff']=device_grouped.created_at.diff()"
   ]
  },
  {
   "cell_type": "code",
   "execution_count": 399,
   "metadata": {
    "collapsed": false
   },
   "outputs": [],
   "source": [
    "df.time_diff=df.time_diff.fillna(df.time_diff.mean())"
   ]
  },
  {
   "cell_type": "code",
   "execution_count": 400,
   "metadata": {
    "collapsed": false
   },
   "outputs": [],
   "source": [
    "df['time_diff_pct']=df.time_diff.rank(pct=True)"
   ]
  },
  {
   "cell_type": "code",
   "execution_count": 401,
   "metadata": {
    "collapsed": false
   },
   "outputs": [
    {
     "data": {
      "text/plain": [
       "Index([u'created_at', u'user_id', u'session_id', u'device_id', u'ua', u'l',\n",
       "       u'name', u'custom_name', u'ip', u'continent', u'country', u'city',\n",
       "       u'lon', u'lat', u'accuracy', u'isp_name', u'datacenter', u'proxy',\n",
       "       u'mobile_device', u'os', u'agent_name', u'time_diff', u'time_diff_pct'],\n",
       "      dtype='object')"
      ]
     },
     "execution_count": 401,
     "metadata": {},
     "output_type": "execute_result"
    }
   ],
   "source": [
    "df.columns"
   ]
  },
  {
   "cell_type": "markdown",
   "metadata": {},
   "source": [
    "#### Calculate the speed ofuser travels"
   ]
  },
  {
   "cell_type": "code",
   "execution_count": 402,
   "metadata": {
    "collapsed": true
   },
   "outputs": [],
   "source": [
    "df['lon_diff']=device_grouped.lon.diff()\n",
    "df['lat_diff']=device_grouped.lat.diff()"
   ]
  },
  {
   "cell_type": "code",
   "execution_count": 403,
   "metadata": {
    "collapsed": true
   },
   "outputs": [],
   "source": [
    "df['speed']=(df.lon_diff.pow(2)+df.lat_diff.pow(2))/df.time_diff"
   ]
  },
  {
   "cell_type": "code",
   "execution_count": 404,
   "metadata": {
    "collapsed": true
   },
   "outputs": [],
   "source": [
    "df.speed=df.speed.fillna(0)"
   ]
  },
  {
   "cell_type": "markdown",
   "metadata": {},
   "source": [
    "#### Calculate the percentile of each time difference between actions, country, isp_name, agent_name"
   ]
  },
  {
   "cell_type": "code",
   "execution_count": 405,
   "metadata": {
    "collapsed": true
   },
   "outputs": [],
   "source": [
    "# function to convert categorical to percentile\n",
    "def cat_to_pct(df,col):\n",
    "    pct=df[col].value_counts(dropna=False)/df[col].notnull().sum()\n",
    "    df=df.join(pct,on=[col],how='left',rsuffix='_pct')\n",
    "    return df"
   ]
  },
  {
   "cell_type": "code",
   "execution_count": 406,
   "metadata": {
    "collapsed": true
   },
   "outputs": [],
   "source": [
    "df=cat_to_pct(df,'os')"
   ]
  },
  {
   "cell_type": "code",
   "execution_count": 407,
   "metadata": {
    "collapsed": true
   },
   "outputs": [],
   "source": [
    "df=cat_to_pct(df,'country')"
   ]
  },
  {
   "cell_type": "code",
   "execution_count": 408,
   "metadata": {
    "collapsed": true
   },
   "outputs": [],
   "source": [
    "df=cat_to_pct(df,'continent')"
   ]
  },
  {
   "cell_type": "code",
   "execution_count": 409,
   "metadata": {
    "collapsed": true
   },
   "outputs": [],
   "source": [
    "df=cat_to_pct(df,'isp_name')"
   ]
  },
  {
   "cell_type": "code",
   "execution_count": 410,
   "metadata": {
    "collapsed": true
   },
   "outputs": [],
   "source": [
    "df=cat_to_pct(df,'agent_name')"
   ]
  },
  {
   "cell_type": "code",
   "execution_count": 411,
   "metadata": {
    "collapsed": true
   },
   "outputs": [],
   "source": [
    "df=cat_to_pct(df,'name')"
   ]
  },
  {
   "cell_type": "code",
   "execution_count": 412,
   "metadata": {
    "collapsed": false
   },
   "outputs": [
    {
     "data": {
      "text/plain": [
       "Index([u'created_at', u'user_id', u'session_id', u'device_id', u'ua', u'l',\n",
       "       u'name', u'custom_name', u'ip', u'continent', u'country', u'city',\n",
       "       u'lon', u'lat', u'accuracy', u'isp_name', u'datacenter', u'proxy',\n",
       "       u'mobile_device', u'os', u'agent_name', u'time_diff', u'time_diff_pct',\n",
       "       u'lon_diff', u'lat_diff', u'speed', u'os_pct', u'country_pct',\n",
       "       u'continent_pct', u'isp_name_pct', u'agent_name_pct', u'name_pct'],\n",
       "      dtype='object')"
      ]
     },
     "execution_count": 412,
     "metadata": {},
     "output_type": "execute_result"
    }
   ],
   "source": [
    "df.columns"
   ]
  },
  {
   "cell_type": "code",
   "execution_count": 413,
   "metadata": {
    "collapsed": false
   },
   "outputs": [],
   "source": [
    "device_id=df.device_id.copy()\n",
    "df_model=df.drop(['created_at','user_id','session_id','device_id','ua','l','name','custom_name'\\\n",
    "                  ,'ip','continent','country','city','lon','lat','accuracy','isp_name','os','agent_name'\\\n",
    "                  ,'lon_diff','lat_diff'\\\n",
    "                 ,'time_diff'],axis=1)\n",
    "#df_model=df_model.drop(['l','city','isp_name'],axis=1)"
   ]
  },
  {
   "cell_type": "markdown",
   "metadata": {},
   "source": [
    "#### Normalize df_model to input into the model"
   ]
  },
  {
   "cell_type": "code",
   "execution_count": 414,
   "metadata": {
    "collapsed": false
   },
   "outputs": [],
   "source": [
    "from sklearn import preprocessing\n",
    "min_max_scaler = preprocessing.MinMaxScaler()"
   ]
  },
  {
   "cell_type": "code",
   "execution_count": 415,
   "metadata": {
    "collapsed": false
   },
   "outputs": [
    {
     "name": "stderr",
     "output_type": "stream",
     "text": [
      "C:\\Anaconda2\\lib\\site-packages\\ipykernel\\__main__.py:1: FutureWarning: reshape is deprecated and will raise in a subsequent release. Please use .values.reshape(...) instead\n",
      "  if __name__ == '__main__':\n"
     ]
    }
   ],
   "source": [
    "df_model.name_pct=min_max_scaler.fit_transform(df_model.name_pct.reshape(-1,1))"
   ]
  },
  {
   "cell_type": "code",
   "execution_count": 416,
   "metadata": {
    "collapsed": false
   },
   "outputs": [],
   "source": [
    "df_model.datacenter=df_model.datacenter.astype('int')*0.5\n",
    "df_model.proxy=df_model.proxy.astype('int')*0.5\n",
    "df_model.mobile_device=df_model.mobile_device.astype('int')*0.5"
   ]
  },
  {
   "cell_type": "code",
   "execution_count": 417,
   "metadata": {
    "collapsed": false
   },
   "outputs": [],
   "source": [
    "#initialize isolation forest\n",
    "from sklearn.ensemble import IsolationForest\n",
    "seed=25\n",
    "sf=IsolationForest(contamination=0.001,n_jobs=-1,random_state=seed)"
   ]
  },
  {
   "cell_type": "code",
   "execution_count": null,
   "metadata": {
    "collapsed": false
   },
   "outputs": [
    {
     "data": {
      "text/plain": [
       "IsolationForest(bootstrap=False, contamination=0.001, max_features=1.0,\n",
       "        max_samples='auto', n_estimators=100, n_jobs=-1, random_state=25,\n",
       "        verbose=0)"
      ]
     },
     "execution_count": 418,
     "metadata": {},
     "output_type": "execute_result"
    }
   ],
   "source": [
    "# fitting the isolation forest model\n",
    "sf.fit(df_model)\n"
   ]
  },
  {
   "cell_type": "code",
   "execution_count": null,
   "metadata": {
    "collapsed": false
   },
   "outputs": [],
   "source": [
    "predict_anom=sf.predict(df_model)"
   ]
  },
  {
   "cell_type": "code",
   "execution_count": null,
   "metadata": {
    "collapsed": false
   },
   "outputs": [],
   "source": [
    "df_model['score']=predict_anom"
   ]
  },
  {
   "cell_type": "code",
   "execution_count": null,
   "metadata": {
    "collapsed": true
   },
   "outputs": [],
   "source": [
    "df['score']=predict_anom"
   ]
  },
  {
   "cell_type": "code",
   "execution_count": null,
   "metadata": {
    "collapsed": false
   },
   "outputs": [],
   "source": [
    "df_anom=df[df.score==-1]"
   ]
  },
  {
   "cell_type": "code",
   "execution_count": null,
   "metadata": {
    "collapsed": false
   },
   "outputs": [],
   "source": [
    "df_anom.columns"
   ]
  },
  {
   "cell_type": "code",
   "execution_count": null,
   "metadata": {
    "collapsed": false
   },
   "outputs": [],
   "source": [
    "df_anom.iloc[:,:20].head()"
   ]
  },
  {
   "cell_type": "code",
   "execution_count": null,
   "metadata": {
    "collapsed": false
   },
   "outputs": [],
   "source": [
    "# columns in model: 'name', u'continent', u'country', u'datacenter', u'proxy',\n",
    "#       u'mobile_device'\n",
    "df_anom.name.value_counts(dropna=False)"
   ]
  },
  {
   "cell_type": "code",
   "execution_count": null,
   "metadata": {
    "collapsed": false
   },
   "outputs": [],
   "source": [
    "df.name.value_counts()"
   ]
  },
  {
   "cell_type": "code",
   "execution_count": null,
   "metadata": {
    "collapsed": false
   },
   "outputs": [],
   "source": [
    "anom_gp=df_anom.groupby(by='device_id').created_at.count()"
   ]
  },
  {
   "cell_type": "code",
   "execution_count": null,
   "metadata": {
    "collapsed": false
   },
   "outputs": [],
   "source": [
    "result=anom_gp.sort_values(ascending=False)\n",
    "result"
   ]
  },
  {
   "cell_type": "code",
   "execution_count": null,
   "metadata": {
    "collapsed": false
   },
   "outputs": [],
   "source": [
    "df[(df.device_id==8066019)&(df.score==-1)].iloc[:,-20:]"
   ]
  },
  {
   "cell_type": "code",
   "execution_count": null,
   "metadata": {
    "collapsed": true
   },
   "outputs": [],
   "source": []
  },
  {
   "cell_type": "code",
   "execution_count": null,
   "metadata": {
    "collapsed": true
   },
   "outputs": [],
   "source": []
  },
  {
   "cell_type": "code",
   "execution_count": null,
   "metadata": {
    "collapsed": true
   },
   "outputs": [],
   "source": []
  }
 ],
 "metadata": {
  "kernelspec": {
   "display_name": "Python 2",
   "language": "python",
   "name": "python2"
  },
  "language_info": {
   "codemirror_mode": {
    "name": "ipython",
    "version": 2
   },
   "file_extension": ".py",
   "mimetype": "text/x-python",
   "name": "python",
   "nbconvert_exporter": "python",
   "pygments_lexer": "ipython2",
   "version": "2.7.12"
  }
 },
 "nbformat": 4,
 "nbformat_minor": 0
}
