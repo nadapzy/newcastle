{
 "cells": [
  {
   "cell_type": "code",
   "execution_count": 1,
   "metadata": {
    "collapsed": false
   },
   "outputs": [
    {
     "name": "stderr",
     "output_type": "stream",
     "text": [
      "C:\\Anaconda2\\lib\\site-packages\\IPython\\core\\interactiveshell.py:2902: DtypeWarning: Columns (5,7) have mixed types. Specify dtype option on import or set low_memory=False.\n",
      "  interactivity=interactivity, compiler=compiler, result=result)\n"
     ]
    }
   ],
   "source": [
    "import pandas as pd\n",
    "import datetime\n",
    "df = pd.read_csv( \"castle-event-data-v4.csv\",sep=',', header=0, parse_dates=True,quoting=1 )\n"
   ]
  },
  {
   "cell_type": "code",
   "execution_count": 2,
   "metadata": {
    "collapsed": true
   },
   "outputs": [],
   "source": [
    "import numpy as np"
   ]
  },
  {
   "cell_type": "code",
   "execution_count": 3,
   "metadata": {
    "collapsed": false
   },
   "outputs": [],
   "source": [
    "#replace all values \"custome\" in column name with custom name\n",
    "df.name=df.name.replace(to_replace='custom',value=np.nan)\n",
    "df.name=df.name.fillna(df.custom_name)"
   ]
  },
  {
   "cell_type": "code",
   "execution_count": 4,
   "metadata": {
    "collapsed": false
   },
   "outputs": [],
   "source": []
  },
  {
   "cell_type": "code",
   "execution_count": 75,
   "metadata": {
    "collapsed": false
   },
   "outputs": [],
   "source": [
    "df_agent_os=pd.read_csv('agent_name.csv')"
   ]
  },
  {
   "cell_type": "code",
   "execution_count": 76,
   "metadata": {
    "collapsed": false
   },
   "outputs": [
    {
     "data": {
      "text/plain": [
       "array(['Unnamed: 0', '0', '1'], dtype=object)"
      ]
     },
     "execution_count": 76,
     "metadata": {},
     "output_type": "execute_result"
    }
   ],
   "source": [
    "df_agent_os.columns.values"
   ]
  },
  {
   "cell_type": "code",
   "execution_count": 77,
   "metadata": {
    "collapsed": false
   },
   "outputs": [],
   "source": [
    "df_agent_os.rename(columns={'Unnamed: 0':'ua','0':'os','1':'agent_name'},inplace=True)"
   ]
  },
  {
   "cell_type": "code",
   "execution_count": 78,
   "metadata": {
    "collapsed": false
   },
   "outputs": [
    {
     "data": {
      "text/html": [
       "<div>\n",
       "<table border=\"1\" class=\"dataframe\">\n",
       "  <thead>\n",
       "    <tr style=\"text-align: right;\">\n",
       "      <th></th>\n",
       "      <th>ua</th>\n",
       "      <th>os</th>\n",
       "      <th>agent_name</th>\n",
       "    </tr>\n",
       "  </thead>\n",
       "  <tbody>\n",
       "    <tr>\n",
       "      <th>0</th>\n",
       "      <td>Mozilla/5.0 (Linux; Android 5.1.1; Ilium_PAD_i...</td>\n",
       "      <td>Android</td>\n",
       "      <td>Android Webkit Browser</td>\n",
       "    </tr>\n",
       "    <tr>\n",
       "      <th>1</th>\n",
       "      <td>Mozilla/5.0 (Linux; Android 4.4.2; SM-G355M Bu...</td>\n",
       "      <td>Android</td>\n",
       "      <td>Android Webkit Browser</td>\n",
       "    </tr>\n",
       "    <tr>\n",
       "      <th>2</th>\n",
       "      <td>Mozilla/5.0 (Windows NT 6.3; WOW64; Trident/7....</td>\n",
       "      <td>Windows NT</td>\n",
       "      <td>Internet Explorer</td>\n",
       "    </tr>\n",
       "    <tr>\n",
       "      <th>3</th>\n",
       "      <td>Mozilla/5.0 (Linux; Android 5.0.1; SM-N910P Bu...</td>\n",
       "      <td>Android</td>\n",
       "      <td>Android Webkit Browser</td>\n",
       "    </tr>\n",
       "    <tr>\n",
       "      <th>4</th>\n",
       "      <td>Mozilla/5.0 (Linux; Android 4.4.4; ILIUM L900 ...</td>\n",
       "      <td>Android</td>\n",
       "      <td>Android Webkit Browser</td>\n",
       "    </tr>\n",
       "  </tbody>\n",
       "</table>\n",
       "</div>"
      ],
      "text/plain": [
       "                                                  ua          os  \\\n",
       "0  Mozilla/5.0 (Linux; Android 5.1.1; Ilium_PAD_i...     Android   \n",
       "1  Mozilla/5.0 (Linux; Android 4.4.2; SM-G355M Bu...     Android   \n",
       "2  Mozilla/5.0 (Windows NT 6.3; WOW64; Trident/7....  Windows NT   \n",
       "3  Mozilla/5.0 (Linux; Android 5.0.1; SM-N910P Bu...     Android   \n",
       "4  Mozilla/5.0 (Linux; Android 4.4.4; ILIUM L900 ...     Android   \n",
       "\n",
       "               agent_name  \n",
       "0  Android Webkit Browser  \n",
       "1  Android Webkit Browser  \n",
       "2       Internet Explorer  \n",
       "3  Android Webkit Browser  \n",
       "4  Android Webkit Browser  "
      ]
     },
     "execution_count": 78,
     "metadata": {},
     "output_type": "execute_result"
    }
   ],
   "source": [
    "df_agent_os.head()"
   ]
  },
  {
   "cell_type": "code",
   "execution_count": 85,
   "metadata": {
    "collapsed": false
   },
   "outputs": [],
   "source": [
    "df=df.merge(df_agent_os,left_on='ua',right_on='ua',how='left')"
   ]
  },
  {
   "cell_type": "code",
   "execution_count": 87,
   "metadata": {
    "collapsed": true
   },
   "outputs": [],
   "source": [
    "df_model=df.drop(['ua','created_at','user_id','session_id','device_id','ip','lon','lat','accuracy','custom_name'],axis=1)\n",
    "df_model=df_model.drop(['l','city','isp_name'],axis=1)"
   ]
  },
  {
   "cell_type": "code",
   "execution_count": 88,
   "metadata": {
    "collapsed": false
   },
   "outputs": [
    {
     "data": {
      "text/plain": [
       "Index([u'name', u'continent', u'country', u'datacenter', u'proxy',\n",
       "       u'mobile_device', u'score', u'os_x', u'agent_name_x', u'os_y',\n",
       "       u'agent_name_y'],\n",
       "      dtype='object')"
      ]
     },
     "execution_count": 88,
     "metadata": {},
     "output_type": "execute_result"
    }
   ],
   "source": [
    "df_model.columns"
   ]
  },
  {
   "cell_type": "code",
   "execution_count": 89,
   "metadata": {
    "collapsed": false
   },
   "outputs": [
    {
     "data": {
      "text/plain": [
       "page_viewed                                   1535114\n",
       "login_succeeded                                335810\n",
       "passwordChange_succeeded                        73548\n",
       "Payment With Balance                            62531\n",
       "Regular Cellphone Confirmation                  26639\n",
       "passwordReset_requested                         14829\n",
       "Create Withdraw                                 13383\n",
       "Account Create Edc Deposit On Landing Page      12417\n",
       "registration_succeeded                          11175\n",
       "Card Checkout                                    7152\n",
       "Mobile Show Cvv                                  4975\n",
       "Cellphone Confirmation                           3864\n",
       "First Timeline Access                            3580\n",
       "First Card Access                                3576\n",
       "Mobile Withdraw Check                            1728\n",
       "New Contact                                       463\n",
       "Account Login Soft Block                          200\n",
       "Mobile Account Change Password                      9\n",
       "Regular Cellphone Confirmation Failed               6\n",
       "Account Login Mobile Chat#using Token               5\n",
       "Name: name, dtype: int64"
      ]
     },
     "execution_count": 89,
     "metadata": {},
     "output_type": "execute_result"
    }
   ],
   "source": [
    "df.name.value_counts()"
   ]
  },
  {
   "cell_type": "code",
   "execution_count": 90,
   "metadata": {
    "collapsed": true
   },
   "outputs": [],
   "source": [
    "df_trans=pd.get_dummies(df_model,dummy_na=True)"
   ]
  },
  {
   "cell_type": "code",
   "execution_count": 91,
   "metadata": {
    "collapsed": false
   },
   "outputs": [
    {
     "data": {
      "text/plain": [
       "Index([u'datacenter', u'proxy', u'mobile_device', u'score',\n",
       "       u'name_Account Create Edc Deposit On Landing Page',\n",
       "       u'name_Account Login Mobile Chat#using Token',\n",
       "       u'name_Account Login Soft Block', u'name_Card Checkout',\n",
       "       u'name_Cellphone Confirmation', u'name_Create Withdraw',\n",
       "       ...\n",
       "       u'agent_name_y_Opera', u'agent_name_y_Opera Mini', u'agent_name_y_PHP',\n",
       "       u'agent_name_y_Palemoon', u'agent_name_y_RockMelt',\n",
       "       u'agent_name_y_Safari', u'agent_name_y_SeaMonkey',\n",
       "       u'agent_name_y_UC Browser', u'agent_name_y_unknown',\n",
       "       u'agent_name_y_nan'],\n",
       "      dtype='object', length=218)"
      ]
     },
     "execution_count": 91,
     "metadata": {},
     "output_type": "execute_result"
    }
   ],
   "source": [
    "df_trans.columns"
   ]
  },
  {
   "cell_type": "code",
   "execution_count": 92,
   "metadata": {
    "collapsed": false
   },
   "outputs": [
    {
     "data": {
      "text/plain": [
       "(2111004, 218)"
      ]
     },
     "execution_count": 92,
     "metadata": {},
     "output_type": "execute_result"
    }
   ],
   "source": [
    "df_trans.shape"
   ]
  },
  {
   "cell_type": "code",
   "execution_count": 93,
   "metadata": {
    "collapsed": true
   },
   "outputs": [],
   "source": [
    "# apparently we need to do 1 hot coding for the model\n",
    "df_trans=pd.get_dummies(df_model,dummy_na=True)"
   ]
  },
  {
   "cell_type": "code",
   "execution_count": 94,
   "metadata": {
    "collapsed": false
   },
   "outputs": [
    {
     "data": {
      "text/html": [
       "<div>\n",
       "<table border=\"1\" class=\"dataframe\">\n",
       "  <thead>\n",
       "    <tr style=\"text-align: right;\">\n",
       "      <th></th>\n",
       "      <th>datacenter</th>\n",
       "      <th>proxy</th>\n",
       "      <th>mobile_device</th>\n",
       "      <th>score</th>\n",
       "      <th>name_Account Create Edc Deposit On Landing Page</th>\n",
       "      <th>name_Account Login Mobile Chat#using Token</th>\n",
       "      <th>name_Account Login Soft Block</th>\n",
       "      <th>name_Card Checkout</th>\n",
       "      <th>name_Cellphone Confirmation</th>\n",
       "      <th>name_Create Withdraw</th>\n",
       "      <th>...</th>\n",
       "      <th>agent_name_y_Opera</th>\n",
       "      <th>agent_name_y_Opera Mini</th>\n",
       "      <th>agent_name_y_PHP</th>\n",
       "      <th>agent_name_y_Palemoon</th>\n",
       "      <th>agent_name_y_RockMelt</th>\n",
       "      <th>agent_name_y_Safari</th>\n",
       "      <th>agent_name_y_SeaMonkey</th>\n",
       "      <th>agent_name_y_UC Browser</th>\n",
       "      <th>agent_name_y_unknown</th>\n",
       "      <th>agent_name_y_nan</th>\n",
       "    </tr>\n",
       "  </thead>\n",
       "  <tbody>\n",
       "    <tr>\n",
       "      <th>0</th>\n",
       "      <td>False</td>\n",
       "      <td>False</td>\n",
       "      <td>False</td>\n",
       "      <td>1</td>\n",
       "      <td>0</td>\n",
       "      <td>0</td>\n",
       "      <td>0</td>\n",
       "      <td>0</td>\n",
       "      <td>0</td>\n",
       "      <td>0</td>\n",
       "      <td>...</td>\n",
       "      <td>0</td>\n",
       "      <td>0</td>\n",
       "      <td>0</td>\n",
       "      <td>0</td>\n",
       "      <td>0</td>\n",
       "      <td>0</td>\n",
       "      <td>0</td>\n",
       "      <td>0</td>\n",
       "      <td>0</td>\n",
       "      <td>0</td>\n",
       "    </tr>\n",
       "    <tr>\n",
       "      <th>1</th>\n",
       "      <td>False</td>\n",
       "      <td>False</td>\n",
       "      <td>False</td>\n",
       "      <td>1</td>\n",
       "      <td>0</td>\n",
       "      <td>0</td>\n",
       "      <td>0</td>\n",
       "      <td>0</td>\n",
       "      <td>0</td>\n",
       "      <td>0</td>\n",
       "      <td>...</td>\n",
       "      <td>0</td>\n",
       "      <td>0</td>\n",
       "      <td>0</td>\n",
       "      <td>0</td>\n",
       "      <td>0</td>\n",
       "      <td>0</td>\n",
       "      <td>0</td>\n",
       "      <td>0</td>\n",
       "      <td>0</td>\n",
       "      <td>0</td>\n",
       "    </tr>\n",
       "    <tr>\n",
       "      <th>2</th>\n",
       "      <td>False</td>\n",
       "      <td>False</td>\n",
       "      <td>False</td>\n",
       "      <td>1</td>\n",
       "      <td>0</td>\n",
       "      <td>0</td>\n",
       "      <td>0</td>\n",
       "      <td>0</td>\n",
       "      <td>0</td>\n",
       "      <td>0</td>\n",
       "      <td>...</td>\n",
       "      <td>0</td>\n",
       "      <td>0</td>\n",
       "      <td>0</td>\n",
       "      <td>0</td>\n",
       "      <td>0</td>\n",
       "      <td>0</td>\n",
       "      <td>0</td>\n",
       "      <td>0</td>\n",
       "      <td>0</td>\n",
       "      <td>0</td>\n",
       "    </tr>\n",
       "    <tr>\n",
       "      <th>3</th>\n",
       "      <td>False</td>\n",
       "      <td>False</td>\n",
       "      <td>False</td>\n",
       "      <td>1</td>\n",
       "      <td>0</td>\n",
       "      <td>0</td>\n",
       "      <td>0</td>\n",
       "      <td>0</td>\n",
       "      <td>0</td>\n",
       "      <td>0</td>\n",
       "      <td>...</td>\n",
       "      <td>0</td>\n",
       "      <td>0</td>\n",
       "      <td>0</td>\n",
       "      <td>0</td>\n",
       "      <td>0</td>\n",
       "      <td>0</td>\n",
       "      <td>0</td>\n",
       "      <td>0</td>\n",
       "      <td>0</td>\n",
       "      <td>0</td>\n",
       "    </tr>\n",
       "    <tr>\n",
       "      <th>4</th>\n",
       "      <td>False</td>\n",
       "      <td>False</td>\n",
       "      <td>False</td>\n",
       "      <td>1</td>\n",
       "      <td>0</td>\n",
       "      <td>0</td>\n",
       "      <td>0</td>\n",
       "      <td>0</td>\n",
       "      <td>0</td>\n",
       "      <td>0</td>\n",
       "      <td>...</td>\n",
       "      <td>0</td>\n",
       "      <td>0</td>\n",
       "      <td>0</td>\n",
       "      <td>0</td>\n",
       "      <td>0</td>\n",
       "      <td>0</td>\n",
       "      <td>0</td>\n",
       "      <td>0</td>\n",
       "      <td>0</td>\n",
       "      <td>0</td>\n",
       "    </tr>\n",
       "  </tbody>\n",
       "</table>\n",
       "<p>5 rows × 218 columns</p>\n",
       "</div>"
      ],
      "text/plain": [
       "  datacenter  proxy mobile_device  score  \\\n",
       "0      False  False         False      1   \n",
       "1      False  False         False      1   \n",
       "2      False  False         False      1   \n",
       "3      False  False         False      1   \n",
       "4      False  False         False      1   \n",
       "\n",
       "   name_Account Create Edc Deposit On Landing Page  \\\n",
       "0                                                0   \n",
       "1                                                0   \n",
       "2                                                0   \n",
       "3                                                0   \n",
       "4                                                0   \n",
       "\n",
       "   name_Account Login Mobile Chat#using Token  name_Account Login Soft Block  \\\n",
       "0                                           0                              0   \n",
       "1                                           0                              0   \n",
       "2                                           0                              0   \n",
       "3                                           0                              0   \n",
       "4                                           0                              0   \n",
       "\n",
       "   name_Card Checkout  name_Cellphone Confirmation  name_Create Withdraw  \\\n",
       "0                   0                            0                     0   \n",
       "1                   0                            0                     0   \n",
       "2                   0                            0                     0   \n",
       "3                   0                            0                     0   \n",
       "4                   0                            0                     0   \n",
       "\n",
       "         ...         agent_name_y_Opera  agent_name_y_Opera Mini  \\\n",
       "0        ...                          0                        0   \n",
       "1        ...                          0                        0   \n",
       "2        ...                          0                        0   \n",
       "3        ...                          0                        0   \n",
       "4        ...                          0                        0   \n",
       "\n",
       "   agent_name_y_PHP  agent_name_y_Palemoon  agent_name_y_RockMelt  \\\n",
       "0                 0                      0                      0   \n",
       "1                 0                      0                      0   \n",
       "2                 0                      0                      0   \n",
       "3                 0                      0                      0   \n",
       "4                 0                      0                      0   \n",
       "\n",
       "   agent_name_y_Safari  agent_name_y_SeaMonkey  agent_name_y_UC Browser  \\\n",
       "0                    0                       0                        0   \n",
       "1                    0                       0                        0   \n",
       "2                    0                       0                        0   \n",
       "3                    0                       0                        0   \n",
       "4                    0                       0                        0   \n",
       "\n",
       "   agent_name_y_unknown  agent_name_y_nan  \n",
       "0                     0                 0  \n",
       "1                     0                 0  \n",
       "2                     0                 0  \n",
       "3                     0                 0  \n",
       "4                     0                 0  \n",
       "\n",
       "[5 rows x 218 columns]"
      ]
     },
     "execution_count": 94,
     "metadata": {},
     "output_type": "execute_result"
    }
   ],
   "source": [
    "df_trans.head()"
   ]
  },
  {
   "cell_type": "code",
   "execution_count": null,
   "metadata": {
    "collapsed": true
   },
   "outputs": [],
   "source": []
  },
  {
   "cell_type": "code",
   "execution_count": null,
   "metadata": {
    "collapsed": false
   },
   "outputs": [],
   "source": [
    "#initialize isolation forest\n",
    "from sklearn.ensemble import IsolationForest\n",
    "seed=25\n",
    "sf=IsolationForest(contamination=0.001,n_jobs=-1,random_state=seed)"
   ]
  },
  {
   "cell_type": "code",
   "execution_count": null,
   "metadata": {
    "collapsed": false
   },
   "outputs": [],
   "source": [
    "# fitting the isolation forest model\n",
    "sf.fit(df_trans)\n"
   ]
  },
  {
   "cell_type": "code",
   "execution_count": null,
   "metadata": {
    "collapsed": false
   },
   "outputs": [],
   "source": [
    "predict_anom=sf.predict(df_trans)"
   ]
  },
  {
   "cell_type": "code",
   "execution_count": null,
   "metadata": {
    "collapsed": false
   },
   "outputs": [],
   "source": [
    "df_trans['score']=predict_anom"
   ]
  },
  {
   "cell_type": "code",
   "execution_count": null,
   "metadata": {
    "collapsed": true
   },
   "outputs": [],
   "source": [
    "df['score']=predict_anom"
   ]
  },
  {
   "cell_type": "code",
   "execution_count": null,
   "metadata": {
    "collapsed": false
   },
   "outputs": [],
   "source": [
    "df_trans.head()"
   ]
  },
  {
   "cell_type": "code",
   "execution_count": null,
   "metadata": {
    "collapsed": false
   },
   "outputs": [],
   "source": [
    "df_anom=df[df.score==-1]"
   ]
  },
  {
   "cell_type": "code",
   "execution_count": null,
   "metadata": {
    "collapsed": false
   },
   "outputs": [],
   "source": [
    "# columns in model: 'name', u'continent', u'country', u'datacenter', u'proxy',\n",
    "#       u'mobile_device'\n",
    "df_anom.name.value_counts()"
   ]
  },
  {
   "cell_type": "code",
   "execution_count": null,
   "metadata": {
    "collapsed": false
   },
   "outputs": [],
   "source": [
    "df_anom.mobile_device.value_counts()"
   ]
  },
  {
   "cell_type": "code",
   "execution_count": null,
   "metadata": {
    "collapsed": false
   },
   "outputs": [],
   "source": [
    "df.name.value_counts()"
   ]
  },
  {
   "cell_type": "code",
   "execution_count": null,
   "metadata": {
    "collapsed": false
   },
   "outputs": [],
   "source": [
    "df_anom.country.value_counts()"
   ]
  },
  {
   "cell_type": "code",
   "execution_count": null,
   "metadata": {
    "collapsed": false
   },
   "outputs": [],
   "source": [
    "df.shape"
   ]
  },
  {
   "cell_type": "code",
   "execution_count": null,
   "metadata": {
    "collapsed": true
   },
   "outputs": [],
   "source": []
  }
 ],
 "metadata": {
  "kernelspec": {
   "display_name": "Python 2",
   "language": "python",
   "name": "python2"
  },
  "language_info": {
   "codemirror_mode": {
    "name": "ipython",
    "version": 2
   },
   "file_extension": ".py",
   "mimetype": "text/x-python",
   "name": "python",
   "nbconvert_exporter": "python",
   "pygments_lexer": "ipython2",
   "version": "2.7.12"
  }
 },
 "nbformat": 4,
 "nbformat_minor": 0
}
